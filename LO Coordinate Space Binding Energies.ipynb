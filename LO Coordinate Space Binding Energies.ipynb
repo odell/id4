{
 "cells": [
  {
   "cell_type": "code",
   "execution_count": 1,
   "id": "acbc3007",
   "metadata": {},
   "outputs": [],
   "source": [
    "import numpy as np\n",
    "import matplotlib.pyplot as plt\n",
    "from scipy.integrate import odeint, solve_ivp\n",
    "from scipy import optimize\n",
    "from tqdm import tqdm\n",
    "\n",
    "from interaction import potential\n",
    "from counterterm import local_LO_counterterm\n",
    "from constants import MU, BETA4\n",
    "from utility import log_mesh\n",
    "\n",
    "plt.style.use('science')"
   ]
  },
  {
   "cell_type": "code",
   "execution_count": 2,
   "id": "bc113191",
   "metadata": {},
   "outputs": [],
   "source": [
    "INIT_CONDITIONS = np.array([0, 0.1])\n",
    "DEFAULT_ENDPTS = np.array([1e-6, 60])\n",
    "\n",
    "def wave_function(v_r, energy, r_endpts=DEFAULT_ENDPTS, tol=1e-12):\n",
    "    sol = solve_ivp(\n",
    "        lambda r, phi: np.array([phi[1], 2*MU*(v_r(r) - energy) * phi[0]], dtype=object),\n",
    "        r_endpts, INIT_CONDITIONS, rtol=tol, atol=tol,\n",
    "        dense_output=True, method='DOP853'\n",
    "    )\n",
    "    return sol.sol\n",
    "\n",
    "\n",
    "def wave_function_tail(energy, v_r, r0):\n",
    "    sol = wave_function(v_r, energy)\n",
    "    return sol(r0)[0]\n",
    "\n",
    "\n",
    "def normalization_constant(energy, v_r, r_max=100, tol=1e-12):\n",
    "    r, wr = log_mesh(0, r_max, 3000)\n",
    "    u = wave_function(v_r, energy)(r)[0]\n",
    "    return 1/np.sqrt(np.dot(wr, u**2))\n",
    "    \n",
    "\n",
    "def normalized_wave_function(energy, v_r, r_max=100, tol=1e-12):\n",
    "    r, wr = log_mesh(0, r_max, 3000)\n",
    "    u = wave_function(v_r, energy)(r)[0]\n",
    "    iC2 = np.dot(wr, u**2)\n",
    "    return normalization_constant(energy, v_r, r_max=r_max, tol=tol) * u"
   ]
  },
  {
   "cell_type": "code",
   "execution_count": 3,
   "id": "482f6963",
   "metadata": {},
   "outputs": [],
   "source": [
    "rgf = np.loadtxt('rgflow_local_lo_a0_fix_hp_n_14_coord_ir_corrected.txt')\n",
    "mm_spec = np.loadtxt('spectra_Mott_Massey_hp.txt')"
   ]
  },
  {
   "cell_type": "code",
   "execution_count": 4,
   "id": "c43b38cd",
   "metadata": {},
   "outputs": [],
   "source": [
    "mm_gammas = np.sqrt(2*MU*-mm_spec)\n",
    "rs_max = -1/mm_gammas * np.log(1e-6)"
   ]
  },
  {
   "cell_type": "code",
   "execution_count": 5,
   "id": "260b1e7d",
   "metadata": {},
   "outputs": [
    {
     "data": {
      "text/plain": [
       "array([ 2.48955835,  3.01253149,  3.82687461,  5.23212399,  8.1006797 ,\n",
       "       16.02279597, 57.77452614])"
      ]
     },
     "execution_count": 5,
     "metadata": {},
     "output_type": "execute_result"
    }
   ],
   "source": [
    "rs_max"
   ]
  },
  {
   "cell_type": "code",
   "execution_count": 6,
   "id": "8bad3269",
   "metadata": {},
   "outputs": [
    {
     "name": "stderr",
     "output_type": "stream",
     "text": [
      "100%|███████████████████████████████████████████| 90/90 [11:28<00:00,  7.65s/it]\n"
     ]
    }
   ],
   "source": [
    "guesses = mm_spec.copy()\n",
    "energies = []\n",
    "\n",
    "for i in tqdm(range(rgf.shape[0])):\n",
    "    Ri, gi = rgf[i]\n",
    "    pot = lambda r: potential(r, Ri) + gi*local_LO_counterterm(r, Ri)\n",
    "    \n",
    "    e2s = np.array([\n",
    "        optimize.fsolve(lambda e: wave_function_tail(e, pot, r_max), en) for (en, r_max) in zip(guesses, rs_max)\n",
    "    ])\n",
    "    guesses = e2s.copy()\n",
    "    energies.append(e2s)"
   ]
  },
  {
   "cell_type": "code",
   "execution_count": 7,
   "id": "0a6f0b33",
   "metadata": {},
   "outputs": [],
   "source": [
    "energies = np.array(energies)\n",
    "n = energies.shape[0]"
   ]
  },
  {
   "cell_type": "code",
   "execution_count": 21,
   "id": "c29a39d4",
   "metadata": {},
   "outputs": [
    {
     "data": {
      "image/png": "[encoded data removed]",
      "text/plain": [
       "<Figure size 700x525 with 1 Axes>"
      ]
     },
     "metadata": {},
     "output_type": "display_data"
    }
   ],
   "source": [
    "fig, ax = plt.subplots(dpi=200)\n",
    "fig.patch.set_facecolor('white')\n",
    "\n",
    "ax.scatter(BETA4/rgf[:65, 0], np.abs(energies[:65, -1]), marker='.');"
   ]
  },
  {
   "cell_type": "code",
   "execution_count": 22,
   "id": "b91b66c2",
   "metadata": {},
   "outputs": [],
   "source": [
    "from scipy.interpolate import interp1d"
   ]
  },
  {
   "cell_type": "code",
   "execution_count": 24,
   "id": "67e5479b",
   "metadata": {},
   "outputs": [
    {
     "data": {
      "text/plain": [
       "(90, 7, 1)"
      ]
     },
     "execution_count": 24,
     "metadata": {},
     "output_type": "execute_result"
    }
   ],
   "source": [
    "energies.shape"
   ]
  },
  {
   "cell_type": "code",
   "execution_count": 28,
   "id": "686ad262",
   "metadata": {},
   "outputs": [
    {
     "name": "stderr",
     "output_type": "stream",
     "text": [
      "100%|███████████████████████████████████████████| 25/25 [05:33<00:00, 13.33s/it]\n"
     ]
    }
   ],
   "source": [
    "more_energies = []\n",
    "\n",
    "for i in tqdm(range(65, rgf.shape[0])):\n",
    "    Ri, gi = rgf[i]\n",
    "    pot = lambda r: potential(r, Ri) + gi*local_LO_counterterm(r, Ri)\n",
    "    \n",
    "    funcs = [interp1d(rgf[i-5:i, 0], energies[i-5:i, j, 0], kind='cubic', fill_value='extrapolate') for j in range(7)]\n",
    "    guesses = np.array([f(Ri) for f in funcs])\n",
    "    \n",
    "    e2s = np.array([\n",
    "        optimize.fsolve(lambda e: wave_function_tail(e, pot, r_max), en) for (en, r_max) in zip(guesses, rs_max)\n",
    "    ])\n",
    "    more_energies.append(e2s)"
   ]
  },
  {
   "cell_type": "code",
   "execution_count": 29,
   "id": "38997949",
   "metadata": {},
   "outputs": [],
   "source": [
    "more_energies = np.array(more_energies)"
   ]
  },
  {
   "cell_type": "code",
   "execution_count": 31,
   "id": "a029c354",
   "metadata": {},
   "outputs": [
    {
     "data": {
      "image/png": "[encoded data removed]",
      "text/plain": [
       "<Figure size 700x525 with 1 Axes>"
      ]
     },
     "metadata": {},
     "output_type": "display_data"
    }
   ],
   "source": [
    "fig, ax = plt.subplots(dpi=200)\n",
    "fig.patch.set_facecolor('white')\n",
    "\n",
    "ax.scatter(BETA4/rgf[:65, 0], np.abs(energies[:65, -1]), marker='.')\n",
    "ax.scatter(BETA4/rgf[65:, 0], np.abs(more_energies[:, -1]), marker='.');"
   ]
  },
  {
   "cell_type": "code",
   "execution_count": null,
   "id": "cff0ce2e",
   "metadata": {},
   "outputs": [],
   "source": []
  }
 ],
 "metadata": {
  "kernelspec": {
   "display_name": "Python 3 (ipykernel)",
   "language": "python",
   "name": "python3"
  },
  "language_info": {
   "codemirror_mode": {
    "name": "ipython",
    "version": 3
   },
   "file_extension": ".py",
   "mimetype": "text/x-python",
   "name": "python",
   "nbconvert_exporter": "python",
   "pygments_lexer": "ipython3",
   "version": "3.10.1"
  }
 },
 "nbformat": 4,
 "nbformat_minor": 5
}
