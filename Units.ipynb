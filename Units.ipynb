{
 "cells": [
  {
   "cell_type": "code",
   "execution_count": 1,
   "id": "0c009a09",
   "metadata": {},
   "outputs": [],
   "source": [
    "import numpy as np\n",
    "import constants as const"
   ]
  },
  {
   "cell_type": "code",
   "execution_count": 2,
   "id": "9a8ea61d",
   "metadata": {},
   "outputs": [
    {
     "data": {
      "text/plain": [
       "237.7637980919727"
      ]
     },
     "execution_count": 2,
     "metadata": {},
     "output_type": "execute_result"
    }
   ],
   "source": [
    "const.MU"
   ]
  },
  {
   "cell_type": "code",
   "execution_count": 3,
   "id": "3e505878",
   "metadata": {},
   "outputs": [
    {
     "data": {
      "text/plain": [
       "3.930936487298791e-06"
      ]
     },
     "execution_count": 3,
     "metadata": {},
     "output_type": "execute_result"
    }
   ],
   "source": [
    "1/(const.MU*const.L_ALPHA**2)"
   ]
  },
  {
   "cell_type": "code",
   "execution_count": 4,
   "id": "ad4d48a2",
   "metadata": {},
   "outputs": [],
   "source": [
    "mm = np.loadtxt('spectra_Mott_Massey_hp.txt')"
   ]
  },
  {
   "cell_type": "code",
   "execution_count": 5,
   "id": "621fc659",
   "metadata": {},
   "outputs": [
    {
     "data": {
      "text/plain": [
       "array([0.18020024, 0.2180543 , 0.27699842, 0.37871376, 0.58634675,\n",
       "       1.15976865, 4.18185965])"
      ]
     },
     "execution_count": 5,
     "metadata": {},
     "output_type": "execute_result"
    }
   ],
   "source": [
    "1 / np.sqrt(2*const.MU*np.abs(mm))"
   ]
  },
  {
   "cell_type": "code",
   "execution_count": 4,
   "id": "f9e7b941",
   "metadata": {},
   "outputs": [],
   "source": [
    "Eh = 4.359744722e-18 # J\n",
    "B = 2.17896e-18 # J"
   ]
  },
  {
   "cell_type": "code",
   "execution_count": 5,
   "id": "c1e845a0",
   "metadata": {},
   "outputs": [
    {
     "data": {
      "text/plain": [
       "0.49979073063718704"
      ]
     },
     "execution_count": 5,
     "metadata": {},
     "output_type": "execute_result"
    }
   ],
   "source": [
    "B / Eh"
   ]
  },
  {
   "cell_type": "code",
   "execution_count": 6,
   "id": "4a1984ab",
   "metadata": {},
   "outputs": [],
   "source": [
    "import numpy as np\n",
    "mm = np.loadtxt('spectra_Mott_Massey.txt')"
   ]
  },
  {
   "cell_type": "code",
   "execution_count": 7,
   "id": "bacaf879",
   "metadata": {},
   "outputs": [],
   "source": [
    "B_0 = np.abs(mm[0])"
   ]
  },
  {
   "cell_type": "code",
   "execution_count": 8,
   "id": "57e82a57",
   "metadata": {},
   "outputs": [
    {
     "data": {
      "text/plain": [
       "32949.359186429516"
      ]
     },
     "execution_count": 8,
     "metadata": {},
     "output_type": "execute_result"
    }
   ],
   "source": [
    "2*const.MU*B_0 * const.BETA4**2"
   ]
  },
  {
   "cell_type": "code",
   "execution_count": 13,
   "id": "35e273b5",
   "metadata": {},
   "outputs": [
    {
     "data": {
      "text/plain": [
       "4.182393025929359"
      ]
     },
     "execution_count": 13,
     "metadata": {},
     "output_type": "execute_result"
    }
   ],
   "source": [
    "1/(np.sqrt(2*const.MU*np.abs(mm[-1])))"
   ]
  },
  {
   "cell_type": "code",
   "execution_count": null,
   "id": "9f4ba822",
   "metadata": {},
   "outputs": [],
   "source": []
  }
 ],
 "metadata": {
  "kernelspec": {
   "display_name": "Python 3 (ipykernel)",
   "language": "python",
   "name": "python3"
  },
  "language_info": {
   "codemirror_mode": {
    "name": "ipython",
    "version": 3
   },
   "file_extension": ".py",
   "mimetype": "text/x-python",
   "name": "python",
   "nbconvert_exporter": "python",
   "pygments_lexer": "ipython3",
   "version": "3.10.1"
  }
 },
 "nbformat": 4,
 "nbformat_minor": 5
}
