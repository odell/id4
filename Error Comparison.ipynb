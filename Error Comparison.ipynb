{
 "cells": [
  {
   "cell_type": "code",
   "execution_count": null,
   "id": "7754fa03",
   "metadata": {},
   "outputs": [],
   "source": [
    "import os\n",
    "\n",
    "import numpy as np\n",
    "import matplotlib.pyplot as plt\n",
    "from scipy.interpolate import interp1d\n",
    "from scipy import optimize\n",
    "\n",
    "import constants as const\n",
    "\n",
    "plt.style.use('science')"
   ]
  },
  {
   "cell_type": "code",
   "execution_count": null,
   "id": "7d2b5c0c",
   "metadata": {},
   "outputs": [],
   "source": [
    "lo = np.loadtxt('spectra_local_lo_a0_fix_hpp_n_14.txt')\n",
    "nlo = np.loadtxt('spectra_local_nlo_a0_B6_fix_coord_hp_n_14_coord_ir_corrected.txt')\n",
    "mm = np.loadtxt('spectra_Mott_Massey.txt')"
   ]
  },
  {
   "cell_type": "code",
   "execution_count": null,
   "id": "3ad28581",
   "metadata": {},
   "outputs": [],
   "source": [
    "1/np.sqrt(2*const.MU*-mm)"
   ]
  },
  {
   "cell_type": "code",
   "execution_count": null,
   "id": "5905d869",
   "metadata": {},
   "outputs": [],
   "source": [
    "def convergence(lamb, c1, c2):\n",
    "    return c1 * (1 + c2*(1/lamb))\n",
    "\n",
    "\n",
    "def convergence_improved(lamb, c1, c2, q):\n",
    "    return c1 * (1 + c2*(q/lamb))\n",
    "\n",
    "\n",
    "def convergence2(lamb, c1, c2):\n",
    "    return c1 * (1 + c2*(1/lamb)**2)\n",
    "\n",
    "\n",
    "def convergence12(lamb, c1, c2, c3):\n",
    "    return c1 * (1 + c2/lamb + c3/lamb**2)\n",
    "\n",
    "\n",
    "def convergence12_improved(lamb, c1, c2, c3, q):\n",
    "    return c1 * (1 + c2*(q/lamb) + c3*(q/lamb)**2)"
   ]
  },
  {
   "cell_type": "code",
   "execution_count": null,
   "id": "73b1397b",
   "metadata": {},
   "outputs": [],
   "source": [
    "R_lo = lo[:, 0]\n",
    "x_lo = const.BETA4 / R_lo\n",
    "energies_lo = lo[:, 1:].T\n",
    "\n",
    "ii = np.intersect1d(\n",
    "    np.where(x_lo > 60)[0],\n",
    "    np.where(x_lo < 70)[0]\n",
    ")\n",
    "\n",
    "fig, ax = plt.subplots(dpi=200)\n",
    "fig.patch.set_facecolor('white')\n",
    "\n",
    "lo_asymp = []\n",
    "\n",
    "for (i, row) in enumerate(energies_lo):\n",
    "    gamma = np.sqrt(2*const.MU*-row[-1])\n",
    "    pars, cov = optimize.curve_fit(lambda x, c1, c2: convergence_improved(x, c1, c2, gamma), x_lo[ii], row[ii])\n",
    "    print(pars)\n",
    "    lo_asymp.append(pars[0])\n",
    "    \n",
    "    ax.plot(x_lo[ii], row[ii], color=f'C{i}')\n",
    "    ax.plot(x_lo[ii], convergence_improved(x_lo[ii], *pars, gamma), linestyle='--', color=f'C{i}')\n",
    "    ax.axhline(pars[0], color='C6')"
   ]
  },
  {
   "cell_type": "markdown",
   "id": "98953038",
   "metadata": {},
   "source": [
    "## NLO Quadratic"
   ]
  },
  {
   "cell_type": "code",
   "execution_count": null,
   "id": "7157906b",
   "metadata": {},
   "outputs": [],
   "source": [
    "gamma_6 = np.sqrt(2*const.MU*-row[-1])"
   ]
  },
  {
   "cell_type": "code",
   "execution_count": null,
   "id": "58c67769",
   "metadata": {},
   "outputs": [],
   "source": [
    "lower_bounds = [\n",
    "    -np.inf,\n",
    "    -50,\n",
    "    -100\n",
    "]\n",
    "\n",
    "upper_bounds = [\n",
    "    np.inf,\n",
    "    50,\n",
    "    100\n",
    "]\n",
    "\n",
    "bounds = optimize.Bounds(lower_bounds, upper_bounds)"
   ]
  },
  {
   "cell_type": "code",
   "execution_count": null,
   "id": "06ed5802",
   "metadata": {},
   "outputs": [],
   "source": [
    "R_nlo = nlo[:, 0]\n",
    "x_nlo = const.BETA4 / R_nlo\n",
    "energies_nlo = -nlo[:, 1:].T\n",
    "\n",
    "ii = np.intersect1d(\n",
    "    np.where(x_nlo > 60)[0],\n",
    "    np.where(x_nlo < 70)[0]\n",
    ")\n",
    "\n",
    "fig, ax = plt.subplots(dpi=200)\n",
    "fig.patch.set_facecolor('white')\n",
    "\n",
    "nlo_asymp = []\n",
    "\n",
    "first = True\n",
    "for row in energies_nlo[:, ii]:\n",
    "#     if first:\n",
    "#         guess = [row[-1], -0.1]\n",
    "#     if np.any(row > 0):\n",
    "#         row *= -1\n",
    "#     pars, cov = optimize.curve_fit(convergence2, x_nlo[ii], row, p0=guess, maxfev=10000)\n",
    "    \n",
    "#     if first:\n",
    "#         guess = [row[-1], -0.01, 1]\n",
    "    if np.any(row > 0):\n",
    "        row *= -1\n",
    "    \n",
    "    converged = False\n",
    "    while not converged:\n",
    "        guess = [row[-1], 10*np.random.rand()-5, 100*np.random.rand() - 50]\n",
    "        pars, cov, infodict, msg, ier = optimize.curve_fit(\n",
    "            lambda x, c1, c2, c3: convergence12_improved(x, c1, c2, c3, gamma), \n",
    "            x_nlo[ii], row, p0=guess, maxfev=100000, bounds=bounds, full_output=True,\n",
    "            sigma = 0.1*np.abs(np.mean(row))*np.ones(row.size)\n",
    "        )\n",
    "        err = np.sqrt(np.sum(np.array(infodict['fvec'])**2))\n",
    "        converged = err < 1\n",
    "        print(guess, err)\n",
    "        os.system('clear')\n",
    "    \n",
    "    first = False\n",
    "    sigma = np.sqrt(np.diag(cov))\n",
    "    guess = pars\n",
    "#     print(f'{row[-1]:.2e} | {pars[0]:2e} ± {sigma[0]:.2e}')\n",
    "    print(pars, '\\n')\n",
    "    \n",
    "    nlo_asymp.append(pars[0])\n",
    "    ax.plot(x_nlo[ii], np.abs(row))\n",
    "    \n",
    "    xp = np.linspace(x_nlo[ii][0], 5*x_nlo[ii][-1], 100)\n",
    "    ax.plot(xp, np.abs(convergence12_improved(xp, *pars, gamma)), linestyle='--')\n",
    "    \n",
    "    ax.axhline(np.abs(pars[0]), color='C6')\n",
    "    \n",
    "ax.set_xlabel(r'$\\beta_4/R$')\n",
    "ax.set_ylabel(r'$E_n$')\n",
    "# ax.set_ylim([1e-5, 2e-3])\n",
    "ax.set_yscale('log');"
   ]
  },
  {
   "cell_type": "markdown",
   "id": "0f209ab9",
   "metadata": {},
   "source": [
    "## NLO Linear and Quadratic"
   ]
  },
  {
   "cell_type": "code",
   "execution_count": null,
   "id": "ee7b117f",
   "metadata": {},
   "outputs": [],
   "source": [
    "R_nlo = nlo[:, 0]\n",
    "x_nlo = const.BETA4 / R_nlo\n",
    "energies_nlo = -nlo[:, 1:].T\n",
    "\n",
    "ii = np.intersect1d(\n",
    "    np.where(x_nlo > 50)[0],\n",
    "    np.where(x_nlo < 70)[0]\n",
    ")\n",
    "\n",
    "fig, ax = plt.subplots(dpi=200)\n",
    "fig.patch.set_facecolor('white')\n",
    "\n",
    "nlo_asymp = []\n",
    "\n",
    "first = True\n",
    "for (i, row) in enumerate(energies_nlo[:, ii]):\n",
    "    if first:\n",
    "        guess = [row[-1], -0.1, 1]\n",
    "    if np.any(row > 0):\n",
    "        row *= -1\n",
    "        if first:\n",
    "            guess = [row[-1], 0.1, -1]\n",
    "    pars, cov = optimize.curve_fit(convergence12, x_nlo[ii], row, p0=guess, maxfev=100000)\n",
    "    \n",
    "    first = False\n",
    "    sigma = np.sqrt(np.diag(cov))\n",
    "    guess = pars\n",
    "#     print(f'{row[-1]:.2e} | {pars[0]:2e} ± {sigma[0]:.2e}')\n",
    "    print(pars, '\\n')\n",
    "    \n",
    "    nlo_asymp.append(pars[0])\n",
    "    ax.plot(x_nlo[ii], np.abs(row), color=f'C{i}')\n",
    "    ax.plot(x_nlo[ii], np.abs(convergence12(x_nlo[ii], *pars)), color=f'C{i}', linestyle='--')\n",
    "    ax.axhline(np.abs(pars[0]), color=f'C{i}')\n",
    "   \n",
    "ax.set_yscale('log')\n",
    "ax.set_xlabel(r'$\\beta_4/R$')\n",
    "ax.set_ylabel(r'$B_n$');"
   ]
  },
  {
   "cell_type": "code",
   "execution_count": null,
   "id": "1b4818a0",
   "metadata": {},
   "outputs": [],
   "source": [
    "a"
   ]
  },
  {
   "cell_type": "code",
   "execution_count": null,
   "id": "ecdb5c13",
   "metadata": {},
   "outputs": [],
   "source": [
    "def read_slope(x, y):\n",
    "    x1, x2 = x[[-1, 0]]\n",
    "    y1, y2 = y[[-1, 0]]\n",
    "    print(x1, y1)\n",
    "    print(x2, y2)\n",
    "    m = (y2-y1) / (x2-x1)\n",
    "    b = y2 - m*x2\n",
    "    return m, b"
   ]
  },
  {
   "cell_type": "code",
   "execution_count": null,
   "id": "13d387db",
   "metadata": {},
   "outputs": [],
   "source": [
    "lo_asymp / mm - 1"
   ]
  },
  {
   "cell_type": "code",
   "execution_count": null,
   "id": "a7edbb0b",
   "metadata": {},
   "outputs": [],
   "source": [
    "nlo_asymp[:-1] / mm[:-1] - 1"
   ]
  },
  {
   "cell_type": "code",
   "execution_count": null,
   "id": "5d692a7f",
   "metadata": {},
   "outputs": [],
   "source": [
    "pars_lo = read_slope(np.log(2*const.MU*(-mm)*const.BETA4**2),\n",
    "                     np.log(np.abs(np.array(lo_asymp) / mm - 1)))\n",
    "pars_nlo = read_slope(np.log(2*const.MU*(-mm[:-1])*const.BETA4**2),\n",
    "                      np.log(np.abs(np.array(nlo_asymp[:-1]) / mm[:-1] - 1)))"
   ]
  },
  {
   "cell_type": "code",
   "execution_count": null,
   "id": "9ca93578",
   "metadata": {},
   "outputs": [],
   "source": [
    "pars_nlo[0] / pars_lo[0]"
   ]
  },
  {
   "cell_type": "code",
   "execution_count": null,
   "id": "1cd45b35",
   "metadata": {},
   "outputs": [],
   "source": [
    "xs = np.linspace(60, 3e4, 1000)"
   ]
  },
  {
   "cell_type": "code",
   "execution_count": null,
   "id": "1a0f1db9",
   "metadata": {},
   "outputs": [],
   "source": [
    "pars_lo, pars_nlo"
   ]
  },
  {
   "cell_type": "code",
   "execution_count": null,
   "id": "ef4efbf0",
   "metadata": {},
   "outputs": [],
   "source": [
    "fig, ax = plt.subplots(figsize=(4, 3), dpi=300)\n",
    "fig.patch.set_facecolor('white')\n",
    "\n",
    "ax.scatter(2*const.MU*(-mm)*const.BETA4**2, np.abs(-np.array(lo_asymp) / -mm - 1))\n",
    "ax.scatter(2*const.MU*(-mm[3:-1])*const.BETA4**2, np.abs(-np.array(nlo_asymp[3:-1]) / -mm[3:-1] - 1), marker='s')\n",
    "ax.scatter(2*const.MU*(-mm[:-4])*const.BETA4**2, np.abs(-np.array(nlo_asymp[:-4]) / -mm[:-4] - 1), marker='x',\n",
    "           color='C1')\n",
    "\n",
    "# ax.plot(xs, pars_lo[0]*xs + pars_lo[1])\n",
    "# ax.plot(np.exp(xs), pars_nlo[0]*xs + pars_nlo[1])\n",
    "\n",
    "ax.set_xlabel(r'$[\\beta_4/\\beta^{(n)}_{\\rm TL}]^2$')\n",
    "ax.set_ylabel(r'$|B^{(n)}/B^{(n)}_{\\rm TL} - 1|$')\n",
    "\n",
    "ax.set_xscale('log')\n",
    "ax.set_yscale('log');\n",
    "\n",
    "plt.savefig('figures/lo_nlo_error.pdf')\n",
    "\n",
    "# ax.set_xlim([]);"
   ]
  },
  {
   "cell_type": "code",
   "execution_count": null,
   "id": "ae936252",
   "metadata": {},
   "outputs": [],
   "source": [
    "for (lo, nlo, x) in zip(lo_asymp[::-1], nlo_asymp[::-1], mm[::-1]):\n",
    "    print(f'{-lo:.2e} & {-nlo:.2e} & {-x:.2e} \\\\\\\\')\n",
    "    print('\\\\hline')"
   ]
  },
  {
   "cell_type": "code",
   "execution_count": null,
   "id": "a19af64e",
   "metadata": {
    "scrolled": false
   },
   "outputs": [],
   "source": [
    "fig, ax = plt.subplots(4, 2, figsize=(2*4, 4*3), dpi=200)\n",
    "fig.patch.set_facecolor('white')\n",
    "fig.delaxes(ax[3, 1])\n",
    "\n",
    "num_pts = 10\n",
    "stop = np.argmin(np.abs(const.BETA4/nlo[:, 0] - 70)) + 1\n",
    "\n",
    "for k in range(7):\n",
    "    i = k//2\n",
    "    j = k%2\n",
    "#     ax[i, j].plot(const.BETA4/lo[stop-num_pts:stop, 0], lo[stop-num_pts:stop, k+1], label=r'$E^{({\\rm LO})}(R)$')\n",
    "    ax[i, j].plot(const.BETA4/nlo[stop-num_pts:stop, 0], nlo[stop-num_pts:stop, k+1],\n",
    "                  label=r'$E^{({\\rm NLO})}(R)$', marker='o', linestyle='')\n",
    "#     ax[i, j].axhline(mm[k], linestyle='--', color='C6', label='MM')\n",
    "    \n",
    "    par, cov = optimize.curve_fit(convergence, const.BETA4/lo[stop-num_pts:stop, 0], lo[stop-num_pts:stop, k+1])\n",
    "#     ax[i, j].axhline(par[0], color='C0', linestyle='--', label=r'$E_\\infty^{({\\rm LO})}$')\n",
    "#     ax[i, j].plot(const.BETA4/lo[stop-num_pts:stop, 0], convergence(const.BETA4/lo[stop-num_pts:stop, 0], *par),\n",
    "#                   linestyle='--', label='LO fit')\n",
    "    lo_asymp[k] = par[0]\n",
    "    \n",
    "    par, cov = optimize.curve_fit(convergence12, \n",
    "                                  const.BETA4/nlo[stop-num_pts:stop, 0], \n",
    "                                  nlo[stop-num_pts:stop, k+1],\n",
    "                                  p0=[1, 1, 1],\n",
    "                                  maxfev=3000)\n",
    "#     ax[i, j].axhline(par[0], color='C1', linestyle='--', label=r'$E_\\infty^{({\\rm NLO})}$')\n",
    "    y_nlo = nlo[stop-num_pts:stop, k+1]\n",
    "    mu_nlo = convergence12(const.BETA4/nlo[stop-num_pts:stop, 0], *par)\n",
    "    print(f'{np.sum((y_nlo - mu_nlo)**2) / (num_pts - par.size):.2e}')\n",
    "    ax[i, j].plot(const.BETA4/lo[stop-num_pts:stop, 0], mu_nlo,\n",
    "                  linestyle='--', label='NLO fit')\n",
    "    nlo_asymp[k] = par[0]\n",
    "    \n",
    "    ax[i, j].set_ylabel(r'$E_{n=%d}$' % (k))\n",
    "    ax[i, j].set_xlabel(r'$\\beta_4/R$')\n",
    "    if k == 6:\n",
    "        ax[i, j].legend()\n",
    "    \n",
    "#     f = interp1d(const.BETA4/lo[-num_pts:, 0], lo[-num_pts:, k+1], kind='cubic', fill_value='extrapolate')\n",
    "#     ax[i, j].scatter(50, f(50))\n",
    "    \n",
    "#     g = interp1d(const.BETA4/nlo[-num_pts:, 0], nlo[-num_pts:, k+1], kind='cubic', fill_value='extrapolate')\n",
    "#     ax[i, j].scatter(50, g(50))\n",
    "    "
   ]
  },
  {
   "cell_type": "markdown",
   "id": "bd67ffa7",
   "metadata": {},
   "source": [
    "$$\\sum_i (y_i - \\mu_i)^2 / \\nu $$\n",
    "\n",
    "| Quadratic | Both |\n",
    "| --------- | ---- |\n",
    "| 7.91e-07  | 6.01e-07 |\n",
    "| 6.15e-08  | 6.29e-08 |\n",
    "| 3.97e-08  | 1.94e-08 |\n",
    "| 1.12e-08  | 2.17e-09 |\n",
    "| 4.38e-10  | 5.35e-11 |\n",
    "| 2.39e-12  | 2.24e-13 |\n",
    "| 2.77e-26  | 9.01e-27 |"
   ]
  },
  {
   "cell_type": "code",
   "execution_count": null,
   "id": "a0ab542c",
   "metadata": {},
   "outputs": [],
   "source": [
    "fig, ax = plt.subplots(figsize=(4, 3), dpi=300)\n",
    "fig.patch.set_facecolor('white')\n",
    "\n",
    "num_pts = 34\n",
    "stop = np.argmin(np.abs(const.BETA4/lo[:, 0] - 30)) + 1\n",
    "\n",
    "for k in range(7):\n",
    "    i = k//2\n",
    "    j = k%2\n",
    "    ax.plot(const.BETA4/lo[stop-num_pts:stop, 0], -lo[stop-num_pts:stop, k+1], label=r'$E^{({\\rm LO})}(R)$',\n",
    "            color='C0')\n",
    "    ax.plot(const.BETA4/nlo[stop-num_pts:stop, 0], -nlo[stop-num_pts:stop, k+1], label=r'$E^{({\\rm NLO})}(R)$',\n",
    "            color='C1', linestyle='-.')\n",
    "    ax.axhline(-mm[k], linestyle='--', color='C6', label='MM')\n",
    "    ax.set_yscale('log')\n",
    "#     par, cov = optimize.curve_fit(convergence, const.BETA4/lo[stop-num_pts:stop, 0], lo[stop-num_pts:stop, k+1])\n",
    "#     ax[i, j].axhline(par[0], color='C0', linestyle='--', label=r'$E_\\infty^{({\\rm LO})}$')\n",
    "#     ax[i, j].plot(const.BETA4/lo[stop-num_pts:stop, 0], convergence(const.BETA4/lo[stop-num_pts:stop, 0], *par),\n",
    "#                   linestyle='--', label='LO fit')\n",
    "#     lo_asymp[k] = par[0]\n",
    "    \n",
    "#     par, cov = optimize.curve_fit(convergence2, const.BETA4/nlo[stop-num_pts:stop, 0], nlo[stop-num_pts:stop, k+1])\n",
    "#     ax[i, j].axhline(par[0], color='C1', linestyle='--', label=r'$E_\\infty^{({\\rm NLO})}$')\n",
    "#     ax[i, j].plot(const.BETA4/lo[stop-num_pts:stop, 0], convergence2(const.BETA4/lo[stop-num_pts:stop, 0], *par),\n",
    "#                   linestyle='--', label='NLO fit')\n",
    "#     nlo_asymp[k] = par[0]\n",
    "    \n",
    "    ax.set_ylabel(r'$B_{n}$')\n",
    "    ax.set_xlabel(r'$\\beta_4/R$ (a.u.)')\n",
    "#     if k == 6:\n",
    "#         ax[i, j].legend()\n",
    "    \n",
    "#     f = interp1d(const.BETA4/lo[-num_pts:, 0], lo[-num_pts:, k+1], kind='cubic', fill_value='extrapolate')\n",
    "#     ax[i, j].scatter(50, f(50))\n",
    "    \n",
    "#     g = interp1d(const.BETA4/nlo[-num_pts:, 0], nlo[-num_pts:, k+1], kind='cubic', fill_value='extrapolate')\n",
    "#     ax[i, j].scatter(50, g(50))\n",
    "\n",
    "plt.savefig('figures/lo_nlo_spectrum_R.pdf')"
   ]
  },
  {
   "cell_type": "code",
   "execution_count": null,
   "id": "d2e0948e",
   "metadata": {},
   "outputs": [],
   "source": [
    "fig, ax = plt.subplots(figsize=(3, 3), dpi=300)\n",
    "fig.patch.set_facecolor('white')\n",
    "\n",
    "num_pts = 34\n",
    "stop = np.argmin(np.abs(const.BETA4/lo[:, 0] - 30)) + 1\n",
    "\n",
    "for k in range(7):\n",
    "    i = k//2\n",
    "    j = k%2\n",
    "    ax.plot(const.BETA4/lo[stop-num_pts:stop, 0], -lo[stop-num_pts:stop, k+1], label=r'$E^{({\\rm LO})}(R)$',\n",
    "            color='C0')\n",
    "    ax.plot(const.BETA4/nlo[stop-num_pts:stop, 0], -nlo[stop-num_pts:stop, k+1], label=r'$E^{({\\rm NLO})}(R)$',\n",
    "            color='C1', linestyle='-.')\n",
    "    ax.axhline(-mm[k], linestyle='--', color='C6', label='MM')\n",
    "    ax.set_yscale('log')\n",
    "#     par, cov = optimize.curve_fit(convergence, const.BETA4/lo[stop-num_pts:stop, 0], lo[stop-num_pts:stop, k+1])\n",
    "#     ax[i, j].axhline(par[0], color='C0', linestyle='--', label=r'$E_\\infty^{({\\rm LO})}$')\n",
    "#     ax[i, j].plot(const.BETA4/lo[stop-num_pts:stop, 0], convergence(const.BETA4/lo[stop-num_pts:stop, 0], *par),\n",
    "#                   linestyle='--', label='LO fit')\n",
    "#     lo_asymp[k] = par[0]\n",
    "    \n",
    "#     par, cov = optimize.curve_fit(convergence2, const.BETA4/nlo[stop-num_pts:stop, 0], nlo[stop-num_pts:stop, k+1])\n",
    "#     ax[i, j].axhline(par[0], color='C1', linestyle='--', label=r'$E_\\infty^{({\\rm NLO})}$')\n",
    "#     ax[i, j].plot(const.BETA4/lo[stop-num_pts:stop, 0], convergence2(const.BETA4/lo[stop-num_pts:stop, 0], *par),\n",
    "#                   linestyle='--', label='NLO fit')\n",
    "#     nlo_asymp[k] = par[0]\n",
    "    \n",
    "    ax.set_ylabel(r'$B_{n}$')\n",
    "    ax.set_xlabel(r'$\\beta_4/R$ (a.u.)')\n",
    "#     if k == 6:\n",
    "#         ax[i, j].legend()\n",
    "    \n",
    "#     f = interp1d(const.BETA4/lo[-num_pts:, 0], lo[-num_pts:, k+1], kind='cubic', fill_value='extrapolate')\n",
    "#     ax[i, j].scatter(50, f(50))\n",
    "    \n",
    "#     g = interp1d(const.BETA4/nlo[-num_pts:, 0], nlo[-num_pts:, k+1], kind='cubic', fill_value='extrapolate')\n",
    "#     ax[i, j].scatter(50, g(50))\n",
    "\n",
    "# plt.savefig('figures/lo_nlo_spectrum_R.pdf')"
   ]
  },
  {
   "cell_type": "code",
   "execution_count": null,
   "id": "33c22666",
   "metadata": {},
   "outputs": [],
   "source": [
    "fig, ax = plt.subplots(figsize=(4, 3), dpi=200)\n",
    "fig.patch.set_facecolor('white')\n",
    "\n",
    "ax.scatter(lo_asymp, nlo_asymp - lo_asymp)\n",
    "\n",
    "ax.set_xlabel(r'$E_{\\rm LO}$')\n",
    "ax.set_ylabel(r'$\\Delta_{\\rm NLO}$');"
   ]
  },
  {
   "cell_type": "code",
   "execution_count": null,
   "id": "212bc605",
   "metadata": {},
   "outputs": [],
   "source": [
    "for (e_lo, e_nlo, e_mm) in zip(lo_asymp[::-1], nlo_asymp[::-1], mm[::-1]):\n",
    "    print(r'%.2e & %.2e & %.2e \\\\' % (-e_mm, -e_lo, -e_nlo))"
   ]
  },
  {
   "cell_type": "code",
   "execution_count": null,
   "id": "d5da57c8",
   "metadata": {},
   "outputs": [],
   "source": [
    "fig, ax = plt.subplots(figsize=(4, 3), dpi=200)\n",
    "fig.patch.set_facecolor('white')\n",
    "\n",
    "ax.scatter(mm, (mm - lo_asymp)/mm)\n",
    "ax.scatter(mm, (mm - nlo_asymp)/mm)\n",
    "# ax.axvline(-1/(2*const.MU*5**2))\n",
    "\n",
    "ax.set_xlabel(r'$E_{\\rm MM}$')\n",
    "ax.set_ylabel(r'$(E_{\\rm MM} - E_{\\rm id})/E_{\\rm MM}$');"
   ]
  },
  {
   "cell_type": "code",
   "execution_count": null,
   "id": "3a8f14dc",
   "metadata": {},
   "outputs": [],
   "source": [
    "fig, ax = plt.subplots(figsize=(4, 3), dpi=300)\n",
    "fig.patch.set_facecolor('white')\n",
    "\n",
    "ax.plot(np.abs(mm), np.abs((mm - lo_asymp)/mm), marker='o', linestyle='', label='LO')\n",
    "# ax.loglog(np.abs(mm[:-1]), np.abs((mm[:-1] - nlo_asymp[:-1])/mm[:-1]), marker='o', linestyle='', label='NLO')\n",
    "# ax.axvline(-1/(2*const.MU*5**2))\n",
    "\n",
    "# ax.legend()\n",
    "ax.set_xlabel(r'$B_{\\rm MM}$')\n",
    "ax.set_ylabel(r'$\\left( B_{\\rm MM} - B_{\\rm id} \\right)/B_{\\rm MM}$');\n",
    "\n",
    "plt.savefig('figures/lo_error.pdf')"
   ]
  },
  {
   "cell_type": "code",
   "execution_count": null,
   "id": "032164ed",
   "metadata": {},
   "outputs": [],
   "source": [
    "fig, ax = plt.subplots(figsize=(4, 3), dpi=200)\n",
    "fig.patch.set_facecolor('white')\n",
    "\n",
    "ax.loglog(np.abs(mm), np.abs((mm - lo_asymp)/mm), marker='o', linestyle='', label='LO')\n",
    "ax.loglog(np.abs(mm[:-1]), np.abs((mm[:-1] - nlo_asymp[:-1])/mm[:-1]), marker='o', linestyle='', label='NLO')\n",
    "# ax.axvline(-1/(2*const.MU*5**2))\n",
    "\n",
    "ax.legend()\n",
    "ax.set_xlabel(r'$B_{\\rm MM}$')\n",
    "ax.set_ylabel(r'$(B_{\\rm MM} - B_{\\rm id})/B_{\\rm MM}$');"
   ]
  },
  {
   "cell_type": "code",
   "execution_count": null,
   "id": "186132a3",
   "metadata": {},
   "outputs": [],
   "source": [
    "par_lo, cov_lo = optimize.curve_fit(lambda x, m, b: m*x+b,\n",
    "                                    np.log(np.abs(mm)),\n",
    "                                    np.log(np.abs((mm - lo_asymp)/mm)))\n",
    "par_lo"
   ]
  },
  {
   "cell_type": "code",
   "execution_count": null,
   "id": "b3f40d3e",
   "metadata": {},
   "outputs": [],
   "source": [
    "par_nlo, cov_nlo = optimize.curve_fit(lambda x, m, b: m*x+b,\n",
    "                              np.log(np.abs(mm[2:-1])),\n",
    "                              np.log(np.abs((mm[2:-1] - nlo_asymp[2:-1])/mm[2:-1]))\n",
    "                             )\n",
    "par_nlo"
   ]
  },
  {
   "cell_type": "code",
   "execution_count": null,
   "id": "e14e3e87",
   "metadata": {},
   "outputs": [],
   "source": [
    "fig, ax = plt.subplots(figsize=(4, 3), dpi=300)\n",
    "fig.patch.set_facecolor('white')\n",
    "\n",
    "ax.scatter(np.abs(mm), np.abs((mm - lo_asymp)/mm), marker='o', label='LO')\n",
    "ax.scatter(np.abs(mm[:-1]), np.abs((mm[:-1] - nlo_asymp[:-1])/mm[:-1]), marker='s', label='NLO')\n",
    "# ax.axvline(-1/(2*const.MU*5**2))\n",
    "\n",
    "xs = np.linspace(np.log(np.abs(mm)[0]), np.log(np.abs(mm)[-1]), 100)\n",
    "ax.plot(np.exp(xs), np.exp(par_lo[0]*xs + par_lo[1]), color='C0', linestyle='-')\n",
    "ax.plot(np.exp(xs), np.exp(par_nlo[0]*xs + par_nlo[1]), color='C1', linestyle='-.')\n",
    "\n",
    "ax.legend()\n",
    "ax.set_xscale('log')\n",
    "ax.set_yscale('log')\n",
    "ax.set_xlabel(r'$B_{\\rm TL}$')\n",
    "ax.set_ylabel(r'$(B_{\\rm TL} - B_{\\rm id})/B_{\\rm TL}$');\n",
    "\n",
    "plt.savefig('figures/lo_nlo_error_loglog.pdf')"
   ]
  },
  {
   "cell_type": "code",
   "execution_count": null,
   "id": "036a69a7",
   "metadata": {},
   "outputs": [],
   "source": []
  }
 ],
 "metadata": {
  "kernelspec": {
   "display_name": "Python 3 (ipykernel)",
   "language": "python",
   "name": "python3"
  },
  "language_info": {
   "codemirror_mode": {
    "name": "ipython",
    "version": 3
   },
   "file_extension": ".py",
   "mimetype": "text/x-python",
   "name": "python",
   "nbconvert_exporter": "python",
   "pygments_lexer": "ipython3",
   "version": "3.10.1"
  }
 },
 "nbformat": 4,
 "nbformat_minor": 5
}
