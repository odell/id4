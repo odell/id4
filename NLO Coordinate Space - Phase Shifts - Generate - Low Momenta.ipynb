{
 "cells": [
  {
   "cell_type": "markdown",
   "id": "1e0325c7",
   "metadata": {},
   "source": [
    "# Computing NLO Phase Shifts in Coordinate Space\n",
    "\n",
    "We have seen that computing NLO phase shifts at large Lambda = 2/R values is numerically difficult – presumably because of the Fourier transform. We will try and bypass those issues by doing the calculation entirely in coordinate space.\n",
    "\n",
    "The $t$-matrix amplitude is approximated as\n",
    "$$\n",
    "t = t^{(0)} + t^{(1)}\n",
    "$$\n",
    "We're going to consider the Born approximation for $t^{(1)}$,\n",
    "$$\n",
    "t^{(1)} \\approx -\\frac{2\\mu}{k} \\langle \\phi^{(0)} | V_{\\rm NLO} | \\phi^{(0)} \\rangle\n",
    "$$\n",
    "\n",
    "(Is this the DWBA?)\n",
    "\n",
    "We need $\\phi^{(0)}$, and we need it properly/consistently **normalized**. Then we need to compute the integral. Finally, we'll (carefully) extract the phase shift via\n",
    "$$\n",
    "e^{2i\\delta} = S = 1 - 2it\n",
    "$$\n",
    "\n",
    "Steps:\n",
    "\n",
    "1. Compute $\\phi^{(0)}$.\n",
    "2. Compute $\\delta^{(0)}$ (compare to previous results).\n",
    "3. Normalize $\\phi^{(0)}$. (???)\n",
    "4. Compute $t^{(0)} = e^{i\\delta^{(0)}}\\sin\\delta^{(0)}$\n",
    "5. Compute the matrix element (integral), $\\langle \\phi^{(0)} | V_{\\rm NLO} | \\phi^{(0)} \\rangle$.\n",
    "6. Compute $t=t^{(0)} + t^{(1)}$ and extract the NLO $\\delta$."
   ]
  },
  {
   "cell_type": "code",
   "execution_count": 1,
   "id": "062c22ae",
   "metadata": {},
   "outputs": [],
   "source": [
    "import numpy as np\n",
    "import matplotlib.pyplot as plt\n",
    "from scipy.integrate import solve_ivp, quad\n",
    "from scipy.interpolate import interp1d\n",
    "from scipy import optimize\n",
    "from tqdm import tqdm\n",
    "from multiprocess import Pool\n",
    "\n",
    "from finite_differences import second_order_deriv\n",
    "from interaction import regulator\n",
    "from counterterm import local_LO_counterterm\n",
    "from constants import MU, BETA4, C4\n",
    "from utility import log_mesh\n",
    "from free_solutions import phase_shift, phase_shift_interp, phi_free\n",
    "\n",
    "plt.style.use('science')\n",
    "ratio = 4/3\n",
    "h = 3"
   ]
  },
  {
   "cell_type": "markdown",
   "id": "6384b35e",
   "metadata": {},
   "source": [
    "Read in RG flows (LO and NLO) and LO results."
   ]
  },
  {
   "cell_type": "code",
   "execution_count": 2,
   "id": "a559df10",
   "metadata": {},
   "outputs": [],
   "source": [
    "rgf = np.loadtxt('rgflow_local_lo_a0_fix_hp_n_14_coord_ir_corrected.txt')\n",
    "rgf_nlo = np.loadtxt('rgflow_local_nlo_a0_B6_fix_coord_hp_n_14_coord_ir_corrected.txt')\n",
    "\n",
    "deltas_lo = np.loadtxt('phase_shifts_lo_wide_dense_hp_n_14_coord_ir_corrected.txt')\n",
    "ks_lo = deltas_lo[:, 0]\n",
    "deltas_lo = deltas_lo[:, 1:].T"
   ]
  },
  {
   "cell_type": "markdown",
   "id": "57730ad2",
   "metadata": {},
   "source": [
    "At what energies/momenta are we going to compute the phase shifts?"
   ]
  },
  {
   "cell_type": "code",
   "execution_count": 3,
   "id": "84522d60",
   "metadata": {},
   "outputs": [],
   "source": [
    "ks = np.logspace(np.log10(1/BETA4), np.log10(np.sqrt(1000)/BETA4), 50)\n",
    "energies = ks**2/(2*MU)"
   ]
  },
  {
   "cell_type": "code",
   "execution_count": 4,
   "id": "b3bd7966",
   "metadata": {},
   "outputs": [],
   "source": [
    "def wave_function(v_r, energy, r_endpts=np.array([1e-2, 10000])):\n",
    "#     k0 = np.sqrt(2*MU* np.abs(v_r(0) - energy))\n",
    "    k = np.sqrt(2*MU*energy)\n",
    "    sol = solve_ivp(\n",
    "        lambda r, phi: np.array([phi[1], 2*MU*(v_r(r) - energy) * phi[0]], dtype=object),\n",
    "        r_endpts, [r_endpts[0], 1], rtol=1e-9, atol=1e-12,\n",
    "        dense_output=True, method='DOP853'\n",
    "    )\n",
    "    return sol.sol\n",
    "\n",
    "\n",
    "def construct_potential(R, c0, c2):\n",
    "    def v4(r):\n",
    "        if r == 0:\n",
    "            return 0\n",
    "        else:\n",
    "            return -C4/r**4\n",
    "\n",
    "    return lambda r: regulator(r, R)*v4(r) + c0*local_LO_counterterm(r, R)\n",
    "\n",
    "\n",
    "def solutions(pot):\n",
    "    return [wave_function(pot, en) for en in tqdm(energies)]\n",
    "\n",
    "\n",
    "def delta_interp(sol, k, r_match=500, max_rel_diff=1e-7, factor=1.01, dx=1e-6):\n",
    "    delta_0 = np.random.rand()\n",
    "    rel_diff = 1\n",
    "    \n",
    "    while rel_diff > max_rel_diff:\n",
    "        r = np.linspace(0.99*r_match, 1.01*r_match, 100)\n",
    "        rho = k*r\n",
    "        u, _ = sol(r)\n",
    "        delta_1 = phase_shift_interp(u, rho, 0, k*r_match, dx=dx).real\n",
    "        \n",
    "        rel_diff = np.abs((delta_1 - delta_0)/delta_0)\n",
    "        delta_0 = delta_1\n",
    "        r_match *= factor\n",
    "    \n",
    "    return delta_1\n",
    "\n",
    "\n",
    "def norm_factors(phi, k, delta0):\n",
    "    r_max_amp = 1/k*(np.pi/2 + 8*np.pi - delta0)\n",
    "    return np.abs(phi(r_max_amp)[0]) # / (np.sqrt(2/np.pi))\n",
    "\n",
    "\n",
    "def integrand(phi0, energy):\n",
    "    k = np.sqrt(2*MU*energy)\n",
    "    v1 = c2 * energy * local_LO_counterterm(r_int, R)\n",
    "    return interp1d(r_int, phi0 * v1 * phi0, kind='cubic')\n",
    "\n",
    "\n",
    "def matrix_element(phi0, energy):\n",
    "    k = np.sqrt(2*MU*energy)\n",
    "    result = quad(integrand(phi0, energy), 1e-4, 2*R)\n",
    "    return -2*MU/k * result[0]"
   ]
  },
  {
   "cell_type": "code",
   "execution_count": 5,
   "id": "7a6a8db0",
   "metadata": {},
   "outputs": [
    {
     "name": "stderr",
     "output_type": "stream",
     "text": [
      "  0%|                                                    | 0/79 [00:00<?, ?it/s]/Users/danielodell/XH-scattering/free_solutions.py:80: RuntimeWarning: divide by zero encountered in true_divide\n",
      "  rl = 1/x0 * (u_func(x0)/derivative(u_func, x0, dx=dx))\n",
      "/Users/danielodell/XH-scattering/free_solutions.py:82: RuntimeWarning: invalid value encountered in multiply\n",
      "  (H_minus(x0, ell) - x0*rl*H_minus_prime(x0, ell)) /\n",
      "/Users/danielodell/XH-scattering/free_solutions.py:83: RuntimeWarning: invalid value encountered in multiply\n",
      "  (H_plus(x0, ell) - x0*rl*H_plus_prime(x0, ell))\n",
      "/var/folders/_z/4zb077j96tz1_kb2vklbxydr0000gn/T/ipykernel_11597/481892811.py:56: IntegrationWarning: The occurrence of roundoff error is detected, which prevents \n",
      "  the requested tolerance from being achieved.  The error may be \n",
      "  underestimated.\n",
      "  result = quad(integrand(phi0, energy), 1e-4, 2*R)\n",
      "100%|███████████████████████████████████████████| 79/79 [35:39<00:00, 27.09s/it]\n"
     ]
    }
   ],
   "source": [
    "deltas = []\n",
    "\n",
    "for (R, c0, c2) in tqdm(rgf_nlo):\n",
    "    pot = construct_potential(R, c0, c2)\n",
    "    f = lambda en: wave_function(pot, en)\n",
    "    \n",
    "    with Pool(4) as pool:\n",
    "        phi0_solutions = pool.map(f, energies)\n",
    "    \n",
    "    delta0s = np.array([delta_interp(sol, k) for (sol, k) in zip(phi0_solutions, ks)])\n",
    "    nfs = np.array([norm_factors(sol, k, d0) for (sol, k, d0) in zip(phi0_solutions, ks, delta0s)])\n",
    "    \n",
    "    r_int, _ = log_mesh(0, 2*R, 4000)\n",
    "    phi0_int = [phi(r_int)[0] / nf for (phi, nf, k) in zip(phi0_solutions, nfs, ks)]\n",
    "\n",
    "    t0s = np.array([np.exp(1j*d0) * np.sin(d0) for d0 in delta0s])\n",
    "\n",
    "    integrands = [integrand(phi0, en) for (phi0, en) in zip(phi0_int, energies)]\n",
    "    mes = np.array([matrix_element(phi0, en) for (phi0, en) in zip(phi0_int, energies)])\n",
    "    mes_1 = np.array([me * np.exp(2j*d) for (me, d) in zip(mes, delta0s)])\n",
    "\n",
    "    ts = t0s + mes_1\n",
    "    deltas.append(np.arctan(ts / (1 + 1j*ts)))"
   ]
  },
  {
   "cell_type": "code",
   "execution_count": 6,
   "id": "83cf6ff3",
   "metadata": {},
   "outputs": [
    {
     "data": {
      "text/plain": [
       "True"
      ]
     },
     "execution_count": 6,
     "metadata": {},
     "output_type": "execute_result"
    }
   ],
   "source": [
    "np.any(np.isnan(deltas))"
   ]
  },
  {
   "cell_type": "code",
   "execution_count": 7,
   "id": "dd469e5e",
   "metadata": {},
   "outputs": [],
   "source": [
    "jj = np.where(np.isnan(deltas))[1]"
   ]
  },
  {
   "cell_type": "code",
   "execution_count": 8,
   "id": "6529cf12",
   "metadata": {},
   "outputs": [
    {
     "data": {
      "text/plain": [
       "array([47, 47, 47, 47, 47, 47, 47, 48, 47, 48, 47, 47, 48, 47, 48, 47, 48,\n",
       "       47, 48, 47, 48, 47, 48, 47, 48, 47, 48, 47, 47, 48, 47, 48, 47, 48,\n",
       "       47, 48, 47, 48, 47, 48, 47, 48, 47, 48, 47, 48, 47, 47, 48, 47, 48,\n",
       "       47, 48, 47, 47, 47, 47, 47, 48, 47, 47, 47, 47, 47, 47, 47, 47, 47,\n",
       "       47, 47, 47, 47, 47, 47, 47, 47, 47, 47, 47, 47, 47, 47, 47, 47, 47,\n",
       "       47, 47, 47, 47, 47, 47, 47, 47, 47])"
      ]
     },
     "execution_count": 8,
     "metadata": {},
     "output_type": "execute_result"
    }
   ],
   "source": [
    "jj"
   ]
  },
  {
   "cell_type": "code",
   "execution_count": 9,
   "id": "263fbb09",
   "metadata": {},
   "outputs": [],
   "source": [
    "good_ks = np.delete(ks, jj)\n",
    "good_deltas = np.delete(deltas, jj, axis=1)"
   ]
  },
  {
   "cell_type": "code",
   "execution_count": 10,
   "id": "efcd7efb",
   "metadata": {},
   "outputs": [],
   "source": [
    "deltas_mm = np.loadtxt('phase_shifts_mott_massey_wide_dense_coord_ir_corrected.txt')\n",
    "ks_mm = deltas_mm[:, 0]\n",
    "deltas_mm = deltas_mm[:, 1]"
   ]
  },
  {
   "cell_type": "code",
   "execution_count": 11,
   "id": "985dc602",
   "metadata": {},
   "outputs": [
    {
     "data": {
      "image/png": "[encoded data removed]",
      "text/plain": [
       "<Figure size 700x525 with 1 Axes>"
      ]
     },
     "metadata": {},
     "output_type": "display_data"
    }
   ],
   "source": [
    "fig, ax = plt.subplots(dpi=200)\n",
    "fig.patch.set_facecolor('white')\n",
    "\n",
    "\n",
    "for d in good_deltas:\n",
    "    ax.plot((good_ks*BETA4)**2, d.real, color='C1')\n",
    "    ax.plot((good_ks*BETA4)**2, d.imag, color='C1', linestyle='--')\n",
    "\n",
    "ax.scatter((ks_mm*BETA4)**2, deltas_mm, color='C3', marker='.')\n",
    "\n",
    "ax.set_ylim([-np.pi/2, np.pi/2])\n",
    "# ax.set_xlim([0.1, 30])\n",
    "ax.set_xscale('log');"
   ]
  },
  {
   "cell_type": "code",
   "execution_count": 12,
   "id": "11bc308d",
   "metadata": {},
   "outputs": [],
   "source": [
    "np.savetxt('phase_shifts_nlo_pert1_wide_dense_hp_n_14_true_coord_ir_corrected_low_momenta.txt',\n",
    "           np.vstack((good_ks, good_deltas)).T)"
   ]
  },
  {
   "cell_type": "code",
   "execution_count": 13,
   "id": "22871fb5",
   "metadata": {},
   "outputs": [
    {
     "data": {
      "text/plain": [
       "((50,), (79, 50))"
      ]
     },
     "execution_count": 13,
     "metadata": {},
     "output_type": "execute_result"
    }
   ],
   "source": [
    "good_ks.shape, good_deltas.shape"
   ]
  },
  {
   "cell_type": "code",
   "execution_count": 14,
   "id": "49aa9190",
   "metadata": {},
   "outputs": [],
   "source": [
    "Delta = 5*np.pi\n",
    "\n",
    "def find_minus_to_plus(x):\n",
    "    n = x.size\n",
    "    indices = []\n",
    "    for i in range(n-1):\n",
    "        if np.sign(x[i]) == -1 and  np.sign(x[i+1]) == 1:\n",
    "            indices.append(i+1)\n",
    "    return indices\n",
    "\n",
    "def shift(x, add_pi=False):\n",
    "    xp = x.copy()\n",
    "    indices = find_minus_to_plus(xp)\n",
    "    i = 0\n",
    "    s = 0\n",
    "    for j in indices:\n",
    "#         print(i, j, s)\n",
    "        xp[i:j] -= s*np.pi\n",
    "        s += 1\n",
    "        i = j\n",
    "    xp[j:] -= s*np.pi\n",
    "    return xp + (Delta if add_pi else 0)"
   ]
  },
  {
   "cell_type": "code",
   "execution_count": 21,
   "id": "9d4bfdd0",
   "metadata": {},
   "outputs": [],
   "source": [
    "mm = shift(deltas_mm, True)\n",
    "lo = shift(delta0s, True)\n",
    "nlo = shift(good_deltas[-1], True)"
   ]
  },
  {
   "cell_type": "code",
   "execution_count": 22,
   "id": "c9b23c7a",
   "metadata": {},
   "outputs": [
    {
     "ename": "ValueError",
     "evalue": "operands could not be broadcast together with shapes (50,) (100,) ",
     "output_type": "error",
     "traceback": [
      "\u001b[0;31m---------------------------------------------------------------------------\u001b[0m",
      "\u001b[0;31mValueError\u001b[0m                                Traceback (most recent call last)",
      "\u001b[0;32m/var/folders/_z/4zb077j96tz1_kb2vklbxydr0000gn/T/ipykernel_10709/4200290705.py\u001b[0m in \u001b[0;36m<module>\u001b[0;34m\u001b[0m\n\u001b[1;32m      2\u001b[0m \u001b[0mfig\u001b[0m\u001b[0;34m.\u001b[0m\u001b[0mpatch\u001b[0m\u001b[0;34m.\u001b[0m\u001b[0mset_facecolor\u001b[0m\u001b[0;34m(\u001b[0m\u001b[0;34m'white'\u001b[0m\u001b[0;34m)\u001b[0m\u001b[0;34m\u001b[0m\u001b[0;34m\u001b[0m\u001b[0m\n\u001b[1;32m      3\u001b[0m \u001b[0;34m\u001b[0m\u001b[0m\n\u001b[0;32m----> 4\u001b[0;31m \u001b[0max\u001b[0m\u001b[0;34m.\u001b[0m\u001b[0mplot\u001b[0m\u001b[0;34m(\u001b[0m\u001b[0;34m(\u001b[0m\u001b[0mks\u001b[0m\u001b[0;34m*\u001b[0m\u001b[0mBETA4\u001b[0m\u001b[0;34m)\u001b[0m\u001b[0;34m**\u001b[0m\u001b[0;36m2\u001b[0m\u001b[0;34m,\u001b[0m \u001b[0mnp\u001b[0m\u001b[0;34m.\u001b[0m\u001b[0mabs\u001b[0m\u001b[0;34m(\u001b[0m\u001b[0;34m(\u001b[0m\u001b[0mlo\u001b[0m\u001b[0;34m/\u001b[0m\u001b[0mmm\u001b[0m\u001b[0;34m)\u001b[0m \u001b[0;34m-\u001b[0m \u001b[0;36m1\u001b[0m\u001b[0;34m)\u001b[0m\u001b[0;34m)\u001b[0m\u001b[0;34m\u001b[0m\u001b[0;34m\u001b[0m\u001b[0m\n\u001b[0m\u001b[1;32m      5\u001b[0m \u001b[0max\u001b[0m\u001b[0;34m.\u001b[0m\u001b[0mplot\u001b[0m\u001b[0;34m(\u001b[0m\u001b[0;34m(\u001b[0m\u001b[0mks\u001b[0m\u001b[0;34m*\u001b[0m\u001b[0mBETA4\u001b[0m\u001b[0;34m)\u001b[0m\u001b[0;34m**\u001b[0m\u001b[0;36m2\u001b[0m\u001b[0;34m,\u001b[0m \u001b[0mnp\u001b[0m\u001b[0;34m.\u001b[0m\u001b[0mabs\u001b[0m\u001b[0;34m(\u001b[0m\u001b[0;34m(\u001b[0m\u001b[0mnlo\u001b[0m\u001b[0;34m/\u001b[0m\u001b[0mmm\u001b[0m\u001b[0;34m)\u001b[0m \u001b[0;34m-\u001b[0m \u001b[0;36m1\u001b[0m\u001b[0;34m)\u001b[0m\u001b[0;34m)\u001b[0m\u001b[0;34m\u001b[0m\u001b[0;34m\u001b[0m\u001b[0m\n\u001b[1;32m      6\u001b[0m \u001b[0;34m\u001b[0m\u001b[0m\n",
      "\u001b[0;31mValueError\u001b[0m: operands could not be broadcast together with shapes (50,) (100,) "
     ]
    },
    {
     "data": {
      "image/png": "[encoded data removed]",
      "text/plain": [
       "<Figure size 700x525 with 1 Axes>"
      ]
     },
     "metadata": {},
     "output_type": "display_data"
    }
   ],
   "source": [
    "fig, ax = plt.subplots(dpi=200)\n",
    "fig.patch.set_facecolor('white')\n",
    "\n",
    "ax.plot((ks*BETA4)**2, np.abs((lo/mm) - 1))\n",
    "ax.plot((ks*BETA4)**2, np.abs((nlo/mm) - 1))\n",
    "\n",
    "ax.set_xscale('log')\n",
    "ax.set_yscale('log');"
   ]
  },
  {
   "cell_type": "code",
   "execution_count": 55,
   "id": "669934f8",
   "metadata": {},
   "outputs": [
    {
     "name": "stderr",
     "output_type": "stream",
     "text": [
      "/Library/Frameworks/Python.framework/Versions/3.10/lib/python3.10/site-packages/matplotlib/cbook/__init__.py:1298: ComplexWarning: Casting complex values to real discards the imaginary part\n",
      "  return np.asarray(x, float)\n"
     ]
    },
    {
     "data": {
      "text/plain": [
       "(10, 10000)"
      ]
     },
     "execution_count": 55,
     "metadata": {},
     "output_type": "execute_result"
    },
    {
     "data": {
      "image/png": "[encoded data removed]",
      "text/plain": [
       "<Figure size 700x525 with 1 Axes>"
      ]
     },
     "metadata": {},
     "output_type": "display_data"
    }
   ],
   "source": [
    "fig, ax = plt.subplots(dpi=200)\n",
    "fig.patch.set_facecolor('white')\n",
    "\n",
    "ax.plot((ks*BETA4)**2, lo - mm)\n",
    "ax.plot((ks*BETA4)**2, nlo - mm)\n",
    "\n",
    "ax.set_xscale('log')\n",
    "ax.set_ylim([-0.5, 0.5])\n",
    "ax.set_xlim([10, 10000])\n",
    "# ax.set_yscale('log');"
   ]
  },
  {
   "cell_type": "code",
   "execution_count": null,
   "id": "6b3bc503",
   "metadata": {},
   "outputs": [],
   "source": []
  }
 ],
 "metadata": {
  "kernelspec": {
   "display_name": "Python 3 (ipykernel)",
   "language": "python",
   "name": "python3"
  },
  "language_info": {
   "codemirror_mode": {
    "name": "ipython",
    "version": 3
   },
   "file_extension": ".py",
   "mimetype": "text/x-python",
   "name": "python",
   "nbconvert_exporter": "python",
   "pygments_lexer": "ipython3",
   "version": "3.10.1"
  },
  "vscode": {
   "interpreter": {
    "hash": "98590ff4fe04c8543246b2a01debd3de3c5ca9b666f43f1fa87d5110c692004c"
   }
  }
 },
 "nbformat": 4,
 "nbformat_minor": 5
}
