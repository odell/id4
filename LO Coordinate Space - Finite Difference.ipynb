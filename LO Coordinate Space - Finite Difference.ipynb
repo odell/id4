{
 "cells": [
  {
   "cell_type": "code",
   "execution_count": 2,
   "metadata": {},
   "outputs": [],
   "source": [
    "import numpy as np\n",
    "import matplotlib.pyplot as plt\n",
    "from scipy.sparse import dia_array\n",
    "from scipy.sparse.linalg import eigs\n",
    "\n",
    "from interaction import potential\n",
    "from counterterm import local_LO_counterterm\n",
    "from finite_differences import second_order_deriv\n",
    "from constants import MU, BETA4\n",
    "\n",
    "plt.style.use('science')"
   ]
  },
  {
   "cell_type": "code",
   "execution_count": 3,
   "metadata": {},
   "outputs": [],
   "source": [
    "rgf = np.loadtxt('rgflow_local_lo_a0_fix_hp_n_14_coord_ir_corrected.txt')"
   ]
  },
  {
   "cell_type": "code",
   "execution_count": 4,
   "metadata": {},
   "outputs": [],
   "source": [
    "index = 0\n",
    "Ri, gi = rgf[index]"
   ]
  },
  {
   "cell_type": "code",
   "execution_count": 5,
   "metadata": {},
   "outputs": [],
   "source": [
    "mm_spec = np.loadtxt('spectra_Mott_Massey_hp.txt')"
   ]
  },
  {
   "cell_type": "code",
   "execution_count": 6,
   "metadata": {},
   "outputs": [],
   "source": [
    "def bound_state_spectrum(R, g, lower_limit, upper_limit, nr):\n",
    "    '''\n",
    "    Computes the binding energies of the π-H system given\n",
    "              R : coordinate-space cutoff\n",
    "              g : LO counterterm coupling\n",
    "    lower_limit : smallest r value used for the Schrödinger Equation\n",
    "    upper_limit : largest r value used for SE\n",
    "             nr : number of r values used for SE\n",
    "    '''\n",
    "    pot = lambda r: potential(r, R) + g*local_LO_counterterm(r, R)\n",
    "\n",
    "    rs = np.linspace(lower_limit, upper_limit, nr)\n",
    "    dr = rs[1] - rs[0]\n",
    "    dr\n",
    "\n",
    "    d2 = second_order_deriv(nr, dr)\n",
    "\n",
    "    v = pot(rs)\n",
    "\n",
    "    evals, evecs = np.linalg.eig(-d2/(2*MU) + np.diag(v))\n",
    "    ii = np.intersect1d(\n",
    "        np.where(evals.real < 0)[0],\n",
    "        np.where(evals.imag == 0)[0]\n",
    "    )\n",
    "    return np.sort(evals[ii].real)"
   ]
  },
  {
   "cell_type": "code",
   "execution_count": 11,
   "metadata": {},
   "outputs": [],
   "source": [
    "shallow_states = []\n",
    "r_min = 1e-4\n",
    "r_max = 1000\n",
    "\n",
    "for n in np.arange(50, 501, 10):\n",
    "    rs = np.linspace(r_min, r_max, n)\n",
    "    dr = rs[1] - rs[0]\n",
    "\n",
    "    d2 = second_order_deriv(n, dr, sparse=False)\n",
    "\n",
    "    pot = lambda r: potential(r, Ri) + gi*local_LO_counterterm(r, Ri)\n",
    "    v = dia_array((pot(rs), [0]), shape=(n, n))\n",
    "#     v = np.diag(pot(rs))\n",
    "\n",
    "    evals, evecs = eigs(-d2/(2*MU) + v, sigma=-1.2e-4)\n",
    "#     evals, evecs = np.linalg.eig(-d2/(2*MU) + v)\n",
    "    \n",
    "    ii_bound_states = np.where(np.logical_and(evals.real < 0, evals.imag == 0))[0]\n",
    "    ii = np.argsort(evals[ii_bound_states])\n",
    "    \n",
    "    shallow_states.append([n, evals[ii].real, evecs[:, ii].real])"
   ]
  },
  {
   "cell_type": "code",
   "execution_count": 12,
   "metadata": {},
   "outputs": [
    {
     "data": {
      "image/png": "[encoded data removed]",
      "text/plain": [
       "<Figure size 700x525 with 1 Axes>"
      ]
     },
     "metadata": {},
     "output_type": "display_data"
    }
   ],
   "source": [
    "fig, ax = plt.subplots(dpi=200)\n",
    "fig.patch.set_facecolor('white')\n",
    "\n",
    "for x in shallow_states:\n",
    "    for (i, y) in enumerate(x[1]):\n",
    "        ax.scatter(x[0], np.abs(y), color=f'C{i}')\n",
    "\n",
    "for b2 in np.abs(mm_spec):\n",
    "    ax.axhline(b2, color='C6', linestyle='--')\n",
    "\n",
    "ax.set_yscale('log')\n",
    "ax.set_xlabel('$n$');"
   ]
  },
  {
   "cell_type": "code",
   "execution_count": 1,
   "metadata": {},
   "outputs": [
    {
     "ename": "NameError",
     "evalue": "name 'plt' is not defined",
     "output_type": "error",
     "traceback": [
      "\u001b[0;31m---------------------------------------------------------------------------\u001b[0m",
      "\u001b[0;31mNameError\u001b[0m                                 Traceback (most recent call last)",
      "\u001b[0;32m/var/folders/_z/4zb077j96tz1_kb2vklbxydr0000gn/T/ipykernel_74703/696168157.py\u001b[0m in \u001b[0;36m<module>\u001b[0;34m\u001b[0m\n\u001b[0;32m----> 1\u001b[0;31m \u001b[0mfig\u001b[0m\u001b[0;34m,\u001b[0m \u001b[0max\u001b[0m \u001b[0;34m=\u001b[0m \u001b[0mplt\u001b[0m\u001b[0;34m.\u001b[0m\u001b[0msubplots\u001b[0m\u001b[0;34m(\u001b[0m\u001b[0;36m2\u001b[0m\u001b[0;34m,\u001b[0m \u001b[0mfigsize\u001b[0m\u001b[0;34m=\u001b[0m\u001b[0;34m(\u001b[0m\u001b[0;36m4\u001b[0m\u001b[0;34m,\u001b[0m \u001b[0;36m6\u001b[0m\u001b[0;34m)\u001b[0m\u001b[0;34m,\u001b[0m \u001b[0mdpi\u001b[0m\u001b[0;34m=\u001b[0m\u001b[0;36m200\u001b[0m\u001b[0;34m)\u001b[0m\u001b[0;34m\u001b[0m\u001b[0;34m\u001b[0m\u001b[0m\n\u001b[0m\u001b[1;32m      2\u001b[0m \u001b[0mfig\u001b[0m\u001b[0;34m.\u001b[0m\u001b[0mpatch\u001b[0m\u001b[0;34m.\u001b[0m\u001b[0mset_facecolor\u001b[0m\u001b[0;34m(\u001b[0m\u001b[0;34m'white'\u001b[0m\u001b[0;34m)\u001b[0m\u001b[0;34m\u001b[0m\u001b[0;34m\u001b[0m\u001b[0m\n\u001b[1;32m      3\u001b[0m \u001b[0;34m\u001b[0m\u001b[0m\n\u001b[1;32m      4\u001b[0m \u001b[0;32mfor\u001b[0m \u001b[0mx\u001b[0m \u001b[0;32min\u001b[0m \u001b[0mshallow_states\u001b[0m\u001b[0;34m:\u001b[0m\u001b[0;34m\u001b[0m\u001b[0;34m\u001b[0m\u001b[0m\n\u001b[1;32m      5\u001b[0m     \u001b[0mrs\u001b[0m \u001b[0;34m=\u001b[0m \u001b[0mnp\u001b[0m\u001b[0;34m.\u001b[0m\u001b[0mlinspace\u001b[0m\u001b[0;34m(\u001b[0m\u001b[0mr_min\u001b[0m\u001b[0;34m,\u001b[0m \u001b[0mr_max\u001b[0m\u001b[0;34m,\u001b[0m \u001b[0mx\u001b[0m\u001b[0;34m[\u001b[0m\u001b[0;36m0\u001b[0m\u001b[0;34m]\u001b[0m\u001b[0;34m)\u001b[0m\u001b[0;34m\u001b[0m\u001b[0;34m\u001b[0m\u001b[0m\n",
      "\u001b[0;31mNameError\u001b[0m: name 'plt' is not defined"
     ]
    }
   ],
   "source": [
    "fig, ax = plt.subplots(2, figsize=(4, 6), dpi=200)\n",
    "fig.patch.set_facecolor('white')\n",
    "\n",
    "for x in shallow_states:\n",
    "    rs = np.linspace(r_min, r_max, x[0])\n",
    "    evecs = x[2]\n",
    "    for (i, y) in enumerate(evecs.T):\n",
    "        ax[i].plot(rs, y, color=f'C{i}', alpha=0.1)\n",
    "\n",
    "ax[0].set_xscale('log')\n",
    "# ax[1].set_xscale('log')\n",
    "ax[0].set_ylabel(r'$u$')\n",
    "ax[1].set_xlabel(r'$r$');"
   ]
  },
  {
   "cell_type": "code",
   "execution_count": null,
   "metadata": {},
   "outputs": [],
   "source": [
    "evals, evecs = eigs(-d2/(2*MU) + v, k=14, v0=evecs[:, -1].real)\n",
    "\n",
    "np.sort(\n",
    "    evals[\n",
    "        np.where(np.logical_and(evals.real < 0, evals.imag == 0))[0]\n",
    "    ].real\n",
    ")"
   ]
  },
  {
   "cell_type": "code",
   "execution_count": null,
   "metadata": {},
   "outputs": [],
   "source": [
    "bound_state_spectrum(Ri, gi, r_min, r_max, n)"
   ]
  },
  {
   "cell_type": "code",
   "execution_count": null,
   "metadata": {},
   "outputs": [],
   "source": []
  }
 ],
 "metadata": {
  "kernelspec": {
   "display_name": "Python 3 (ipykernel)",
   "language": "python",
   "name": "python3"
  },
  "language_info": {
   "codemirror_mode": {
    "name": "ipython",
    "version": 3
   },
   "file_extension": ".py",
   "mimetype": "text/x-python",
   "name": "python",
   "nbconvert_exporter": "python",
   "pygments_lexer": "ipython3",
   "version": "3.10.1"
  },
  "vscode": {
   "interpreter": {
    "hash": "98590ff4fe04c8543246b2a01debd3de3c5ca9b666f43f1fa87d5110c692004c"
   }
  }
 },
 "nbformat": 4,
 "nbformat_minor": 2
}
