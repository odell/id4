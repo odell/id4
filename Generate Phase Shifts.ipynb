{
 "cells": [
  {
   "cell_type": "code",
   "execution_count": 2,
   "id": "d9672691",
   "metadata": {},
   "outputs": [],
   "source": [
    "import numpy as np\n",
    "import matplotlib.pyplot as plt\n",
    "from scipy.special import roots_legendre\n",
    "from tqdm import tqdm\n",
    "\n",
    "import mu2\n",
    "\n",
    "import constants as const\n",
    "from interaction import potential\n",
    "from counterterm import local_LO_counterterm\n",
    "from mottmassey import mm_potential\n",
    "\n",
    "gr = 4/3\n",
    "h = 3\n",
    "\n",
    "plt.style.use('science')"
   ]
  },
  {
   "cell_type": "code",
   "execution_count": 12,
   "id": "8e324a16",
   "metadata": {},
   "outputs": [],
   "source": [
    "lo_rg_flow = np.loadtxt('rgflow_local_lo_a0_fix_hp_n_14_coord_ir_corrected.txt')\n",
    "nlo_rg_flow = np.loadtxt('rgflow_local_nlo_a0_B6_fix_coord_hp_n_14_coord_ir_corrected.txt')\n",
    "\n",
    "ell = 0"
   ]
  },
  {
   "cell_type": "code",
   "execution_count": 5,
   "id": "3d3501bf",
   "metadata": {},
   "outputs": [
    {
     "name": "stderr",
     "output_type": "stream",
     "text": [
      "100%|███████████████████████████████████████████| 95/95 [07:13<00:00,  4.56s/it]\n"
     ]
    }
   ],
   "source": [
    "rmesh = mu2.Mesh(0, 10*const.BETA4, 2000)\n",
    "systems = []\n",
    "for (Ri, _) in tqdm(lo_rg_flow):\n",
    "    qmesh = mu2.Mesh(0, 20*2/Ri, 300, log=False)\n",
    "    x = mu2.LocalCounterterm(local_LO_counterterm, lambda r, R: 0, rmesh, qmesh, Ri, ell)\n",
    "    \n",
    "    systems.append(mu2.System(mu2.Interaction(potential, x, rmesh, scheme='local'), const.MU, ell))"
   ]
  },
  {
   "cell_type": "code",
   "execution_count": 25,
   "id": "ba51c039",
   "metadata": {},
   "outputs": [],
   "source": [
    "ks = np.linspace(0.001/const.BETA4, 100/const.BETA4, 500)"
   ]
  },
  {
   "cell_type": "code",
   "execution_count": 21,
   "id": "db4c760c",
   "metadata": {},
   "outputs": [
    {
     "name": "stderr",
     "output_type": "stream",
     "text": [
      "100%|███████████████████████████████████████████| 95/95 [02:32<00:00,  1.60s/it]\n"
     ]
    }
   ],
   "source": [
    "# ks = np.linspace(0.01/const.BETA4, 1/1.5, 50)\n",
    "deltas_lo = []\n",
    "\n",
    "for i in tqdm(range(len(systems))):\n",
    "    s = systems[i]\n",
    "    gi = lo_rg_flow[i, 1]\n",
    "    kcd = s.kcotd_gen_fast(ks, gi, 0)\n",
    "    deltas_lo.append(np.arctan(ks/kcd))\n",
    "\n",
    "deltas_lo = np.array(deltas_lo)"
   ]
  },
  {
   "cell_type": "code",
   "execution_count": 22,
   "id": "00a58ecc",
   "metadata": {},
   "outputs": [],
   "source": [
    "np.savetxt('phase_shifts_lo_hp_n_14_coord_ir_corrected.txt', np.vstack((ks, deltas_lo)).T)"
   ]
  },
  {
   "cell_type": "code",
   "execution_count": 28,
   "id": "c81b6b54",
   "metadata": {},
   "outputs": [
    {
     "name": "stderr",
     "output_type": "stream",
     "text": [
      "100%|███████████████████████████████████████████| 79/79 [12:29<00:00,  9.48s/it]\n"
     ]
    }
   ],
   "source": [
    "systems_nlo = []\n",
    "rmesh = mu2.Mesh(0, 20*const.BETA4, 4000)\n",
    "\n",
    "for (Ri, _, _) in tqdm(nlo_rg_flow):\n",
    "    qmesh = mu2.Mesh(0, 20*2/Ri, 300, log=False)\n",
    "    x = mu2.LocalCounterterm(local_LO_counterterm, lambda r, R: 0, rmesh, qmesh, Ri, ell)\n",
    "    \n",
    "    systems_nlo.append(mu2.System(mu2.Interaction(potential, x, rmesh, scheme='local'), const.MU, ell))"
   ]
  },
  {
   "cell_type": "code",
   "execution_count": 29,
   "id": "4bf1cd8e",
   "metadata": {},
   "outputs": [
    {
     "name": "stderr",
     "output_type": "stream",
     "text": [
      "100%|███████████████████████████████████████████| 79/79 [10:54<00:00,  8.29s/it]\n"
     ]
    }
   ],
   "source": [
    "deltas_nlo = []\n",
    "for i in tqdm(range(len(systems_nlo))):\n",
    "    s = systems[i]\n",
    "    glo, gnlo = nlo_rg_flow[i, 1:]\n",
    "    xterm = s.interaction.counterterm.gen(1, 0)\n",
    "    kcd = np.array([\n",
    "        mu2.cc.cscatter.kcotdelta_py(k, s.v_tilde + glo*xterm + gnlo*k**2/(2*const.MU)*xterm, \n",
    "                                     s.q, s.wq, 20*2/s.r_c, ell, 2*const.MU) for k in ks\n",
    "    ])\n",
    "    deltas_nlo.append(np.arctan(ks/kcd))\n",
    "\n",
    "deltas_nlo = np.array(deltas_nlo)"
   ]
  },
  {
   "cell_type": "code",
   "execution_count": 30,
   "id": "f253cdc1",
   "metadata": {},
   "outputs": [],
   "source": [
    "np.savetxt('phase_shifts_nlo_hp_n_14_coord_ir_corrected.txt', np.vstack((ks, deltas_nlo)).T)"
   ]
  },
  {
   "cell_type": "code",
   "execution_count": 12,
   "id": "50d40594",
   "metadata": {},
   "outputs": [],
   "source": [
    "# mm = mu2.System(\n",
    "#     mu2.Interaction(lambda r, R: mm_potential(r),\n",
    "#         mu2.LocalCounterterm(lambda r, R: 0, lambda r, R: 0, rmesh, mu2.Mesh(0, 20*2/1.5, 300), 1.5, 0),\n",
    "#         rmesh\n",
    "#     ), const.MU, 0\n",
    "# )\n",
    "\n",
    "# kcds_mm = np.array([mu2.cc.cscatter.kcotdelta_py(k, mm.v_tilde, mm.q, mm.wq, 20*2/1.5, 0, 2*const.MU) for k in ks])\n",
    "# deltas_mm = np.arctan(ks/kcds_mm)"
   ]
  },
  {
   "cell_type": "code",
   "execution_count": 15,
   "id": "1fdcc074",
   "metadata": {},
   "outputs": [],
   "source": [
    "# np.savetxt('phase_shifts_mott_massey.txt', np.vstack((ks, deltas_mm)).T)"
   ]
  },
  {
   "cell_type": "code",
   "execution_count": null,
   "id": "9265394d",
   "metadata": {},
   "outputs": [],
   "source": []
  }
 ],
 "metadata": {
  "kernelspec": {
   "display_name": "Python 3 (ipykernel)",
   "language": "python",
   "name": "python3"
  },
  "language_info": {
   "codemirror_mode": {
    "name": "ipython",
    "version": 3
   },
   "file_extension": ".py",
   "mimetype": "text/x-python",
   "name": "python",
   "nbconvert_exporter": "python",
   "pygments_lexer": "ipython3",
   "version": "3.10.1"
  }
 },
 "nbformat": 4,
 "nbformat_minor": 5
}
