{
 "cells": [
  {
   "cell_type": "code",
   "execution_count": 1,
   "id": "732bc368",
   "metadata": {},
   "outputs": [],
   "source": [
    "import numpy as np\n",
    "import matplotlib.pyplot as plt\n",
    "from scipy.special import spherical_jn\n",
    "from scipy.integrate import quad\n",
    "from tqdm import tqdm\n",
    "\n",
    "from interaction import potential, LocalSystem\n",
    "from counterterm import local_LO_counterterm\n",
    "from constants import MU, BETA4\n",
    "from utility import log_mesh, ft_matrix_gen\n",
    "\n",
    "plt.style.use('science')"
   ]
  },
  {
   "cell_type": "code",
   "execution_count": 2,
   "id": "06cda136",
   "metadata": {},
   "outputs": [],
   "source": [
    "rgf = np.loadtxt('rgflow_local_lo_a0_fix_hp_n_14_coord_ir_corrected.txt')"
   ]
  },
  {
   "cell_type": "code",
   "execution_count": 3,
   "id": "6426f882",
   "metadata": {},
   "outputs": [
    {
     "data": {
      "text/plain": [
       "(95, 2)"
      ]
     },
     "execution_count": 3,
     "metadata": {},
     "output_type": "execute_result"
    }
   ],
   "source": [
    "rgf.shape"
   ]
  },
  {
   "cell_type": "code",
   "execution_count": 4,
   "id": "156a8fbd",
   "metadata": {},
   "outputs": [
    {
     "name": "stdout",
     "output_type": "stream",
     "text": [
      "78.18181818181819\n"
     ]
    }
   ],
   "source": [
    "ii = -1\n",
    "R, c0 = rgf[ii]\n",
    "print(f'{BETA4/R}')\n",
    "\n",
    "def v4(r):\n",
    "    if r == 0:\n",
    "        return 0\n",
    "    return potential(r, R)\n",
    "\n",
    "\n",
    "def pot(r):\n",
    "    return v4(r) + c0*local_LO_counterterm(r, R)\n",
    "\n",
    "\n",
    "def f(r, p, k):\n",
    "    if p == 0 and k == 0:\n",
    "        return 2/np.pi * r**2 * pot(r)\n",
    "    if p == 0:\n",
    "        return 2/np.pi * 1/k * r * pot(r) * np.sin(k*r)\n",
    "    if k == 0:\n",
    "        return 2/np.pi * 1/p * np.sin(p*r) * pot(r) * r\n",
    "    return 2/np.pi * 1/(p*k) * np.sin(p*r) * pot(r) * np.sin(k*r)\n",
    "\n",
    "\n",
    "def g(z, p, k):\n",
    "    return -1/z * np.sin(-p*np.log(z)) * pot(-np.log(z)) * np.sin(-k*np.log(z))\n",
    "\n",
    "\n",
    "def h(y, p, k):\n",
    "    return 2/np.pi * 1/(q[0]*q[-1]) * (1 + np.tan(y)**2) * np.sin(p*np.tan(y)) * pot(np.tan(y)) * np.sin(k*np.tan(y))\n",
    "\n",
    "\n",
    "nq = 200\n",
    "q, wq = log_mesh(0, 20*2/R, nq)\n",
    "\n",
    "v = np.zeros((nq, nq))"
   ]
  },
  {
   "cell_type": "code",
   "execution_count": 5,
   "id": "f08528a8",
   "metadata": {},
   "outputs": [
    {
     "name": "stdout",
     "output_type": "stream",
     "text": [
      "CPU times: user 4.89 ms, sys: 318 µs, total: 5.21 ms\n",
      "Wall time: 5.09 ms\n"
     ]
    }
   ],
   "source": [
    "%%time\n",
    "result = quad(pot, 0, np.infty, weight='cos', wvar=q[0]-q[-1], full_output=1)"
   ]
  },
  {
   "cell_type": "code",
   "execution_count": 6,
   "id": "04d4a479",
   "metadata": {},
   "outputs": [
    {
     "data": {
      "text/plain": [
       "(-2.999916934113314e-11,\n",
       " 2.7874591943071358e-09,\n",
       " {'neval': 650,\n",
       "  'lst': 6,\n",
       "  'rslst': array([-1.01046513e-07,  1.04206826e-07, -3.57384364e-09,  5.14557922e-10,\n",
       "         -1.31026447e-10,  4.53342372e-11,  0.00000000e+00,  0.00000000e+00,\n",
       "          0.00000000e+00,  0.00000000e+00,  0.00000000e+00,  0.00000000e+00,\n",
       "          0.00000000e+00,  0.00000000e+00,  0.00000000e+00,  0.00000000e+00,\n",
       "          0.00000000e+00,  0.00000000e+00,  0.00000000e+00,  0.00000000e+00,\n",
       "          0.00000000e+00,  0.00000000e+00,  0.00000000e+00,  0.00000000e+00,\n",
       "          0.00000000e+00,  0.00000000e+00,  0.00000000e+00,  0.00000000e+00,\n",
       "          0.00000000e+00,  0.00000000e+00,  0.00000000e+00,  0.00000000e+00,\n",
       "          0.00000000e+00,  0.00000000e+00,  0.00000000e+00,  0.00000000e+00,\n",
       "          0.00000000e+00,  0.00000000e+00,  0.00000000e+00,  0.00000000e+00,\n",
       "          0.00000000e+00,  0.00000000e+00,  0.00000000e+00,  0.00000000e+00,\n",
       "          0.00000000e+00,  0.00000000e+00,  0.00000000e+00,  0.00000000e+00,\n",
       "          0.00000000e+00,  0.00000000e+00]),\n",
       "  'erlst': array([5.20578612e-10, 1.68703166e-13, 1.73269363e-17, 4.98203798e-20,\n",
       "         6.54224668e-22, 2.07392566e-23, 0.00000000e+00, 0.00000000e+00,\n",
       "         0.00000000e+00, 0.00000000e+00, 0.00000000e+00, 0.00000000e+00,\n",
       "         0.00000000e+00, 0.00000000e+00, 0.00000000e+00, 0.00000000e+00,\n",
       "         0.00000000e+00, 0.00000000e+00, 0.00000000e+00, 0.00000000e+00,\n",
       "         0.00000000e+00, 0.00000000e+00, 0.00000000e+00, 0.00000000e+00,\n",
       "         0.00000000e+00, 0.00000000e+00, 0.00000000e+00, 0.00000000e+00,\n",
       "         0.00000000e+00, 0.00000000e+00, 0.00000000e+00, 0.00000000e+00,\n",
       "         0.00000000e+00, 0.00000000e+00, 0.00000000e+00, 0.00000000e+00,\n",
       "         0.00000000e+00, 0.00000000e+00, 0.00000000e+00, 0.00000000e+00,\n",
       "         0.00000000e+00, 0.00000000e+00, 0.00000000e+00, 0.00000000e+00,\n",
       "         0.00000000e+00, 0.00000000e+00, 0.00000000e+00, 0.00000000e+00,\n",
       "         0.00000000e+00, 0.00000000e+00]),\n",
       "  'ierlst': array([0, 0, 0, 0, 0, 0, 0, 0, 0, 0, 0, 0, 0, 0, 0, 0, 0, 0, 0, 0, 0, 0,\n",
       "         0, 0, 0, 0, 0, 0, 0, 0, 0, 0, 0, 0, 0, 0, 0, 0, 0, 0, 0, 0, 0, 0,\n",
       "         0, 0, 0, 0, 0, 0], dtype=int32)})"
      ]
     },
     "execution_count": 6,
     "metadata": {},
     "output_type": "execute_result"
    }
   ],
   "source": [
    "result"
   ]
  },
  {
   "cell_type": "code",
   "execution_count": 37,
   "id": "fed743ec",
   "metadata": {},
   "outputs": [],
   "source": [
    "r_max = 22*BETA4\n",
    "\n",
    "def I_1(pot, qi, qj):\n",
    "    if np.abs(qi - qj) == 0:\n",
    "        return quad(pot, 0, r_max)[0]\n",
    "    else:\n",
    "        return quad(pot, 0, r_max, weight='cos', wvar=qi-qj)[0]\n",
    "\n",
    "\n",
    "def I_2(pot, qi, qj):\n",
    "    return quad(pot, 0, r_max, weight='cos', wvar=qi+qj)[0]\n",
    "\n",
    "\n",
    "def I_total(pot, qi, qj):\n",
    "    return 1 / np.pi * 1/(qi*qj) * (I_1(pot, qi, qj) - I_2(pot, qi, qj))"
   ]
  },
  {
   "cell_type": "code",
   "execution_count": 38,
   "id": "14c6b1ad",
   "metadata": {},
   "outputs": [
    {
     "data": {
      "text/plain": [
       "(64.90278011793957, 1.4392638315944353e-13, 0.06227702323414399)"
      ]
     },
     "execution_count": 38,
     "metadata": {},
     "output_type": "execute_result"
    }
   ],
   "source": [
    "I_total(pot, q[0], q[0]), I_total(pot, q[0], q[-1]), I_total(pot, q[-1], q[-1])"
   ]
  },
  {
   "cell_type": "code",
   "execution_count": 31,
   "id": "6ac1ec1c",
   "metadata": {},
   "outputs": [],
   "source": [
    "sys = LocalSystem(R, qmesh=(q, wq, 20*2/R))"
   ]
  },
  {
   "cell_type": "code",
   "execution_count": 32,
   "id": "eab625f9",
   "metadata": {},
   "outputs": [
    {
     "data": {
      "text/plain": [
       "64.90516651006948"
      ]
     },
     "execution_count": 32,
     "metadata": {},
     "output_type": "execute_result"
    }
   ],
   "source": [
    "sys.v_tilde[0, 0] + sys.counterterm.gen(c0, 0)[0, 0]"
   ]
  },
  {
   "cell_type": "code",
   "execution_count": 33,
   "id": "5bf453a6",
   "metadata": {},
   "outputs": [
    {
     "data": {
      "text/plain": [
       "-1.4331198164279765e-07"
      ]
     },
     "execution_count": 33,
     "metadata": {},
     "output_type": "execute_result"
    }
   ],
   "source": [
    "sys.v_tilde[0, -1] + sys.counterterm.gen(c0, 0)[0, -1]"
   ]
  },
  {
   "cell_type": "code",
   "execution_count": 34,
   "id": "0212ed76",
   "metadata": {},
   "outputs": [
    {
     "data": {
      "text/plain": [
       "0.06227701172398386"
      ]
     },
     "execution_count": 34,
     "metadata": {},
     "output_type": "execute_result"
    }
   ],
   "source": [
    "sys.v_tilde[-1, -1] + sys.counterterm.gen(c0, 0)[-1, -1]"
   ]
  },
  {
   "cell_type": "code",
   "execution_count": 27,
   "id": "2abd1e5e",
   "metadata": {},
   "outputs": [
    {
     "name": "stdout",
     "output_type": "stream",
     "text": [
      "CPU times: user 1min 47s, sys: 232 ms, total: 1min 47s\n",
      "Wall time: 1min 47s\n"
     ]
    }
   ],
   "source": [
    "%%time\n",
    "v = np.array([[I_total(pot, qi, qj) for qi in q] for qj in q])"
   ]
  },
  {
   "cell_type": "code",
   "execution_count": 29,
   "id": "71481941",
   "metadata": {},
   "outputs": [
    {
     "data": {
      "text/plain": [
       "array([[ 6.49029863e+01,  6.49030920e+01,  6.49036561e+01, ...,\n",
       "        -1.22580440e-12,  2.95258358e-12, -1.58319021e-12],\n",
       "       [ 6.49030920e+01,  6.49032017e+01,  6.49037557e+01, ...,\n",
       "         5.47241218e-13, -2.04953886e-13,  0.00000000e+00],\n",
       "       [ 6.49036561e+01,  6.49037557e+01,  6.49042634e+01, ...,\n",
       "         5.95322635e-13, -2.38936866e-13,  2.99847574e-13],\n",
       "       ...,\n",
       "       [-1.22580440e-12,  5.47241218e-13,  5.95322635e-13, ...,\n",
       "         6.25246863e-02,  6.24185654e-02,  6.23367243e-02],\n",
       "       [ 2.95258358e-12, -2.04953886e-13, -2.38936866e-13, ...,\n",
       "         6.24185654e-02,  6.23653982e-02,  6.23130324e-02],\n",
       "       [-1.58319021e-12,  0.00000000e+00,  2.99847574e-13, ...,\n",
       "         6.23367243e-02,  6.23130324e-02,  6.22770232e-02]])"
      ]
     },
     "execution_count": 29,
     "metadata": {},
     "output_type": "execute_result"
    }
   ],
   "source": [
    "v"
   ]
  },
  {
   "cell_type": "code",
   "execution_count": 28,
   "id": "a58ae2c1",
   "metadata": {},
   "outputs": [
    {
     "name": "stderr",
     "output_type": "stream",
     "text": [
      "/var/folders/_z/4zb077j96tz1_kb2vklbxydr0000gn/T/ipykernel_80058/3482098375.py:1: RuntimeWarning: divide by zero encountered in true_divide\n",
      "  np.linalg.norm((v - sys.v_tilde) / v)\n"
     ]
    },
    {
     "data": {
      "text/plain": [
       "inf"
      ]
     },
     "execution_count": 28,
     "metadata": {},
     "output_type": "execute_result"
    }
   ],
   "source": [
    "np.linalg.norm((v - sys.v_tilde) / v)"
   ]
  },
  {
   "cell_type": "code",
   "execution_count": 29,
   "id": "0b137d8f",
   "metadata": {},
   "outputs": [],
   "source": [
    "with open(f'datfiles/matrix_elements/vtilde_R_{R:.8e}.txt', 'w+') as f:\n",
    "    for i in range(nq):\n",
    "        for j in range(nq):\n",
    "            f.write(f'{wq[i]:.12e}  {q[i]:.12e}  {q[j]:.12e}  {v[i, j]:.12e}\\n')"
   ]
  },
  {
   "cell_type": "code",
   "execution_count": 34,
   "id": "bc5a8f6d",
   "metadata": {},
   "outputs": [
    {
     "name": "stderr",
     "output_type": "stream",
     "text": [
      "100%|████████████████████████████████████████| 95/95 [2:48:45<00:00, 106.59s/it]\n"
     ]
    }
   ],
   "source": [
    "for i in tqdm(range(rgf.shape[0])):\n",
    "    R, c0 = rgf[i]\n",
    "    q, wq = log_mesh(0, 20*2/R, nq)\n",
    "    \n",
    "    def v4(r):\n",
    "        if r == 0:\n",
    "            return 0\n",
    "        return potential(r, R)\n",
    "\n",
    "\n",
    "    def pot(r):\n",
    "        return v4(r) + c0*local_LO_counterterm(r, R)\n",
    "    \n",
    "    \n",
    "    v = np.array([[I_total(pot, qi, qj) for qi in q] for qj in q])\n",
    "    \n",
    "    with open(f'datfiles/matrix_elements/vtilde_R_{R:.8e}.txt', 'w+') as f:\n",
    "        for i in range(nq):\n",
    "            for j in range(nq):\n",
    "                f.write(f'{wq[i]:.16e}  {q[i]:.16e}  {q[j]:.16e}  {v[i, j]:.16e}\\n')"
   ]
  },
  {
   "cell_type": "code",
   "execution_count": null,
   "id": "fdc7e2cd",
   "metadata": {},
   "outputs": [],
   "source": []
  }
 ],
 "metadata": {
  "kernelspec": {
   "display_name": "Python 3 (ipykernel)",
   "language": "python",
   "name": "python3"
  },
  "language_info": {
   "codemirror_mode": {
    "name": "ipython",
    "version": 3
   },
   "file_extension": ".py",
   "mimetype": "text/x-python",
   "name": "python",
   "nbconvert_exporter": "python",
   "pygments_lexer": "ipython3",
   "version": "3.10.1"
  }
 },
 "nbformat": 4,
 "nbformat_minor": 5
}
