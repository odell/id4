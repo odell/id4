{
 "cells": [
  {
   "cell_type": "code",
   "execution_count": 1,
   "id": "d9672691",
   "metadata": {},
   "outputs": [],
   "source": [
    "import numpy as np\n",
    "import matplotlib.pyplot as plt\n",
    "from scipy.special import roots_legendre\n",
    "from tqdm import tqdm\n",
    "\n",
    "import mu2\n",
    "\n",
    "import constants as const\n",
    "from interaction import potential\n",
    "from counterterm import local_LO_counterterm\n",
    "from mottmassey import mm_potential\n",
    "\n",
    "gr = 4/3\n",
    "h = 3\n",
    "\n",
    "plt.style.use('science')"
   ]
  },
  {
   "cell_type": "code",
   "execution_count": 2,
   "id": "8e324a16",
   "metadata": {},
   "outputs": [],
   "source": [
    "lo_rg_flow = np.loadtxt('rgflow_local_lo_a0_fix_hp_n_14_coord_ir_corrected.txt')\n",
    "nlo_rg_flow = np.loadtxt('rgflow_local_nlo_a0_B6_fix_coord_hp_n_14_coord_ir_corrected.txt')\n",
    "\n",
    "ell = 0"
   ]
  },
  {
   "cell_type": "code",
   "execution_count": 3,
   "id": "3d3501bf",
   "metadata": {},
   "outputs": [
    {
     "name": "stderr",
     "output_type": "stream",
     "text": [
      "100%|███████████████████████████████████████████| 95/95 [07:19<00:00,  4.63s/it]\n"
     ]
    }
   ],
   "source": [
    "rmesh = mu2.Mesh(0, 20*const.BETA4, 4000)\n",
    "systems = []\n",
    "for (Ri, _) in tqdm(lo_rg_flow):\n",
    "    qmesh = mu2.Mesh(0, 20*2/Ri, 300, log=False)\n",
    "    x = mu2.LocalCounterterm(local_LO_counterterm, lambda r, R: 0, rmesh, qmesh, Ri, ell)\n",
    "    \n",
    "    systems.append(mu2.System(mu2.Interaction(potential, x, rmesh, scheme='local'), const.MU, ell))"
   ]
  },
  {
   "cell_type": "code",
   "execution_count": 3,
   "id": "de9b2f23",
   "metadata": {},
   "outputs": [],
   "source": [
    "ks = np.linspace(0.001/const.BETA4, 100/const.BETA4, 500)"
   ]
  },
  {
   "cell_type": "code",
   "execution_count": 4,
   "id": "db4c760c",
   "metadata": {},
   "outputs": [
    {
     "name": "stderr",
     "output_type": "stream",
     "text": [
      "100%|███████████████████████████████████████████| 95/95 [12:37<00:00,  7.97s/it]\n"
     ]
    }
   ],
   "source": [
    "\n",
    "# ks = np.linspace(0.01/const.BETA4, 1/1.5, 50)\n",
    "deltas_lo = []\n",
    "\n",
    "for i in tqdm(range(len(systems))):\n",
    "    s = systems[i]\n",
    "    gi = lo_rg_flow[i, 1]\n",
    "    kcd = s.kcotd_gen_fast(ks, gi, 0)\n",
    "    deltas_lo.append(np.arctan(ks/kcd))\n",
    "#     kcds_lo.append(np.array([\n",
    "#         mu2.cc.cscatter.kcotdelta_py(k, s.v_tilde + s.interaction.counterterm.gen(gi, 0),\n",
    "#                                      s.q, s.wq, 20*2/s.r_c, ell, 2*const.MU) for k in ks]))\n",
    "\n",
    "deltas_lo = np.array(deltas_lo)"
   ]
  },
  {
   "cell_type": "code",
   "execution_count": 5,
   "id": "00a58ecc",
   "metadata": {},
   "outputs": [],
   "source": [
    "np.savetxt('phase_shifts_lo_wide_dense_hp_n_14_coord_ir_corrected.txt', np.vstack((ks, deltas_lo)).T)"
   ]
  },
  {
   "cell_type": "code",
   "execution_count": 14,
   "id": "238eefcf",
   "metadata": {},
   "outputs": [
    {
     "name": "stderr",
     "output_type": "stream",
     "text": [
      "100%|███████████████████████████████████████████| 79/79 [20:19<00:00, 15.43s/it]\n"
     ]
    }
   ],
   "source": [
    "rmesh = mu2.Mesh(0, 20*const.BETA4, 4000)\n",
    "systems_nlo = []\n",
    "for (Ri, _, _) in tqdm(nlo_rg_flow):\n",
    "    qmesh = mu2.Mesh(0, 20*2/Ri, 500, log=False)\n",
    "    x = mu2.LocalCounterterm(local_LO_counterterm, lambda r, R: 0, rmesh, qmesh, Ri, ell)\n",
    "    \n",
    "    systems_nlo.append(mu2.System(mu2.Interaction(potential, x, rmesh, scheme='local'), const.MU, ell))"
   ]
  },
  {
   "cell_type": "code",
   "execution_count": 15,
   "id": "51f1af0e",
   "metadata": {},
   "outputs": [],
   "source": [
    "from scipy.interpolate import interp1d"
   ]
  },
  {
   "cell_type": "code",
   "execution_count": 16,
   "id": "d6a30857",
   "metadata": {},
   "outputs": [],
   "source": [
    "f0_nlo_rg_flow = interp1d(nlo_rg_flow[:, 0], nlo_rg_flow[:, 1], kind='cubic', fill_value='extrapolate')\n",
    "f2_nlo_rg_flow = interp1d(nlo_rg_flow[:, 0], nlo_rg_flow[:, 2], kind='cubic', fill_value='extrapolate')"
   ]
  },
  {
   "cell_type": "code",
   "execution_count": 17,
   "id": "4bf1cd8e",
   "metadata": {},
   "outputs": [
    {
     "name": "stderr",
     "output_type": "stream",
     "text": [
      "100%|███████████████████████████████████████████| 79/79 [21:16<00:00, 16.16s/it]\n"
     ]
    }
   ],
   "source": [
    "deltas_nlo = []\n",
    "for i in tqdm(range(len(systems_nlo))):\n",
    "    s = systems[i]\n",
    "    Ri, c0, c2 = nlo_rg_flow[i, :]\n",
    "    xterm = s.interaction.counterterm.gen(1, 0)\n",
    "    kcd = np.array([\n",
    "        mu2.cc.cscatter.kcotdelta_pert1_py(k, s.v_tilde + c0*xterm, c2*k**2/(2*const.MU)*xterm, \n",
    "                                     s.q, s.wq, 20*2/s.r_c, ell, 2*const.MU) for k in ks\n",
    "    ])\n",
    "    deltas_nlo.append(np.arctan(ks/kcd))\n",
    "\n",
    "deltas_nlo = np.array(deltas_nlo)"
   ]
  },
  {
   "cell_type": "code",
   "execution_count": 18,
   "id": "f253cdc1",
   "metadata": {},
   "outputs": [],
   "source": [
    "np.savetxt('phase_shifts_nlo_pert1_wide_dense_hp_n_14_coord_ir_corrected.txt', np.vstack((ks, deltas_nlo)).T)"
   ]
  },
  {
   "cell_type": "code",
   "execution_count": 12,
   "id": "50d40594",
   "metadata": {},
   "outputs": [],
   "source": [
    "mm = mu2.System(\n",
    "    mu2.Interaction(lambda r, R: mm_potential(r),\n",
    "        mu2.LocalCounterterm(lambda r, R: 0, lambda r, R: 0, rmesh, mu2.Mesh(0, 20*2/1.5, 300), 1.5, 0),\n",
    "        rmesh,\n",
    "        scheme='local'\n",
    "    ), const.MU, 0\n",
    ")\n",
    "\n",
    "kcds_mm = np.array([mu2.cc.cscatter.kcotdelta_py(k, mm.v_tilde, mm.q, mm.wq, 20*2/1.5, 0, 2*const.MU) for k in ks])\n",
    "deltas_mm = np.arctan(ks/kcds_mm)"
   ]
  },
  {
   "cell_type": "code",
   "execution_count": 13,
   "id": "1fdcc074",
   "metadata": {},
   "outputs": [],
   "source": [
    "np.savetxt('phase_shifts_mott_massey_wide_dense.txt', np.vstack((ks, deltas_mm)).T)"
   ]
  },
  {
   "cell_type": "code",
   "execution_count": null,
   "id": "9265394d",
   "metadata": {},
   "outputs": [],
   "source": []
  }
 ],
 "metadata": {
  "kernelspec": {
   "display_name": "Python 3 (ipykernel)",
   "language": "python",
   "name": "python3"
  },
  "language_info": {
   "codemirror_mode": {
    "name": "ipython",
    "version": 3
   },
   "file_extension": ".py",
   "mimetype": "text/x-python",
   "name": "python",
   "nbconvert_exporter": "python",
   "pygments_lexer": "ipython3",
   "version": "3.10.1"
  }
 },
 "nbformat": 4,
 "nbformat_minor": 5
}
